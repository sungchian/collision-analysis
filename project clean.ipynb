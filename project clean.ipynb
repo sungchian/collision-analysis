{
 "cells": [
  {
   "cell_type": "code",
   "execution_count": 1,
   "metadata": {},
   "outputs": [
    {
     "ename": "ModuleNotFoundError",
     "evalue": "No module named 'pandasql'",
     "output_type": "error",
     "traceback": [
      "\u001b[1;31m---------------------------------------------------------------------------\u001b[0m",
      "\u001b[1;31mModuleNotFoundError\u001b[0m                       Traceback (most recent call last)",
      "Cell \u001b[1;32mIn[1], line 7\u001b[0m\n\u001b[0;32m      5\u001b[0m \u001b[38;5;28;01mimport\u001b[39;00m \u001b[38;5;21;01mmatplotlib\u001b[39;00m \u001b[38;5;28;01mas\u001b[39;00m \u001b[38;5;21;01mplt\u001b[39;00m\n\u001b[0;32m      6\u001b[0m \u001b[38;5;28;01mimport\u001b[39;00m \u001b[38;5;21;01mpandas\u001b[39;00m \u001b[38;5;28;01mas\u001b[39;00m \u001b[38;5;21;01mpd\u001b[39;00m\n\u001b[1;32m----> 7\u001b[0m \u001b[38;5;28;01mimport\u001b[39;00m \u001b[38;5;21;01mpandasql\u001b[39;00m \u001b[38;5;28;01mas\u001b[39;00m \u001b[38;5;21;01mps\u001b[39;00m\n\u001b[0;32m      8\u001b[0m \u001b[38;5;28;01mimport\u001b[39;00m \u001b[38;5;21;01mplotly\u001b[39;00m\u001b[38;5;21;01m.\u001b[39;00m\u001b[38;5;21;01mexpress\u001b[39;00m \u001b[38;5;28;01mas\u001b[39;00m \u001b[38;5;21;01mpx\u001b[39;00m\n",
      "\u001b[1;31mModuleNotFoundError\u001b[0m: No module named 'pandasql'"
     ]
    }
   ],
   "source": [
    "\n",
    "import pandas as pd\n",
    "import numpy as np\n",
    "import sqlite3\n",
    "import folium\n",
    "import matplotlib as plt\n",
    "import pandas as pd\n",
    "import pandasql as ps\n",
    "import plotly.express as px"
   ]
  },
  {
   "cell_type": "code",
   "execution_count": null,
   "metadata": {},
   "outputs": [
    {
     "name": "stdout",
     "output_type": "stream",
     "text": [
      "Requirement already satisfied: matplotlib in /Library/Frameworks/Python.framework/Versions/3.11/lib/python3.11/site-packages (3.8.2)\n",
      "Requirement already satisfied: contourpy>=1.0.1 in /Library/Frameworks/Python.framework/Versions/3.11/lib/python3.11/site-packages (from matplotlib) (1.1.0)\n",
      "Requirement already satisfied: cycler>=0.10 in /Library/Frameworks/Python.framework/Versions/3.11/lib/python3.11/site-packages (from matplotlib) (0.11.0)\n",
      "Requirement already satisfied: fonttools>=4.22.0 in /Library/Frameworks/Python.framework/Versions/3.11/lib/python3.11/site-packages (from matplotlib) (4.40.0)\n",
      "Requirement already satisfied: kiwisolver>=1.3.1 in /Library/Frameworks/Python.framework/Versions/3.11/lib/python3.11/site-packages (from matplotlib) (1.4.4)\n",
      "Requirement already satisfied: numpy<2,>=1.21 in /Library/Frameworks/Python.framework/Versions/3.11/lib/python3.11/site-packages (from matplotlib) (1.25.0)\n",
      "Requirement already satisfied: packaging>=20.0 in /Library/Frameworks/Python.framework/Versions/3.11/lib/python3.11/site-packages (from matplotlib) (23.1)\n",
      "Requirement already satisfied: pillow>=8 in /Library/Frameworks/Python.framework/Versions/3.11/lib/python3.11/site-packages (from matplotlib) (10.0.0)\n",
      "Requirement already satisfied: pyparsing>=2.3.1 in /Library/Frameworks/Python.framework/Versions/3.11/lib/python3.11/site-packages (from matplotlib) (3.1.0)\n",
      "Requirement already satisfied: python-dateutil>=2.7 in /Library/Frameworks/Python.framework/Versions/3.11/lib/python3.11/site-packages (from matplotlib) (2.8.2)\n",
      "Requirement already satisfied: six>=1.5 in /Library/Frameworks/Python.framework/Versions/3.11/lib/python3.11/site-packages (from python-dateutil>=2.7->matplotlib) (1.16.0)\n",
      "Note: you may need to restart the kernel to use updated packages.\n"
     ]
    }
   ],
   "source": [
    "pip install matplotlib"
   ]
  },
  {
   "cell_type": "code",
   "execution_count": null,
   "metadata": {},
   "outputs": [
    {
     "name": "stdout",
     "output_type": "stream",
     "text": [
      "Requirement already satisfied: pandasql in /Library/Frameworks/Python.framework/Versions/3.11/lib/python3.11/site-packages (0.7.3)\n",
      "Requirement already satisfied: numpy in /Library/Frameworks/Python.framework/Versions/3.11/lib/python3.11/site-packages (from pandasql) (1.25.0)\n",
      "Requirement already satisfied: pandas in /Library/Frameworks/Python.framework/Versions/3.11/lib/python3.11/site-packages (from pandasql) (2.1.3)\n",
      "Requirement already satisfied: sqlalchemy in /Library/Frameworks/Python.framework/Versions/3.11/lib/python3.11/site-packages (from pandasql) (2.0.22)\n",
      "Requirement already satisfied: python-dateutil>=2.8.2 in /Library/Frameworks/Python.framework/Versions/3.11/lib/python3.11/site-packages (from pandas->pandasql) (2.8.2)\n",
      "Requirement already satisfied: pytz>=2020.1 in /Library/Frameworks/Python.framework/Versions/3.11/lib/python3.11/site-packages (from pandas->pandasql) (2023.3)\n",
      "Requirement already satisfied: tzdata>=2022.1 in /Library/Frameworks/Python.framework/Versions/3.11/lib/python3.11/site-packages (from pandas->pandasql) (2023.3)\n",
      "Requirement already satisfied: typing-extensions>=4.2.0 in /Library/Frameworks/Python.framework/Versions/3.11/lib/python3.11/site-packages (from sqlalchemy->pandasql) (4.8.0)\n",
      "Requirement already satisfied: six>=1.5 in /Library/Frameworks/Python.framework/Versions/3.11/lib/python3.11/site-packages (from python-dateutil>=2.8.2->pandas->pandasql) (1.16.0)\n",
      "Note: you may need to restart the kernel to use updated packages.\n"
     ]
    }
   ],
   "source": [
    "pip install pandasql\n"
   ]
  },
  {
   "cell_type": "code",
   "execution_count": null,
   "metadata": {},
   "outputs": [
    {
     "name": "stdout",
     "output_type": "stream",
     "text": [
      "Requirement already satisfied: plotly in /Library/Frameworks/Python.framework/Versions/3.11/lib/python3.11/site-packages (5.18.0)\n",
      "Requirement already satisfied: tenacity>=6.2.0 in /Library/Frameworks/Python.framework/Versions/3.11/lib/python3.11/site-packages (from plotly) (8.2.3)\n",
      "Requirement already satisfied: packaging in /Library/Frameworks/Python.framework/Versions/3.11/lib/python3.11/site-packages (from plotly) (23.1)\n",
      "Note: you may need to restart the kernel to use updated packages.\n"
     ]
    }
   ],
   "source": [
    "pip install plotly"
   ]
  },
  {
   "cell_type": "code",
   "execution_count": null,
   "metadata": {},
   "outputs": [
    {
     "name": "stdout",
     "output_type": "stream",
     "text": [
      "Requirement already satisfied: pygal in /Library/Frameworks/Python.framework/Versions/3.11/lib/python3.11/site-packages (3.0.4)\n",
      "Requirement already satisfied: importlib-metadata in /Library/Frameworks/Python.framework/Versions/3.11/lib/python3.11/site-packages (from pygal) (7.0.0)\n",
      "Requirement already satisfied: zipp>=0.5 in /Library/Frameworks/Python.framework/Versions/3.11/lib/python3.11/site-packages (from importlib-metadata->pygal) (3.17.0)\n",
      "Note: you may need to restart the kernel to use updated packages.\n"
     ]
    }
   ],
   "source": [
    "pip install pygal\n"
   ]
  },
  {
   "cell_type": "code",
   "execution_count": null,
   "metadata": {},
   "outputs": [
    {
     "ename": "SyntaxError",
     "evalue": "invalid syntax (2455951342.py, line 1)",
     "output_type": "error",
     "traceback": [
      "\u001b[0;36m  Cell \u001b[0;32mIn[6], line 1\u001b[0;36m\u001b[0m\n\u001b[0;31m    brew install cairo\u001b[0m\n\u001b[0m         ^\u001b[0m\n\u001b[0;31mSyntaxError\u001b[0m\u001b[0;31m:\u001b[0m invalid syntax\n"
     ]
    }
   ],
   "source": [
    "brew install cairo\n"
   ]
  },
  {
   "cell_type": "code",
   "execution_count": null,
   "metadata": {},
   "outputs": [
    {
     "name": "stdout",
     "output_type": "stream",
     "text": [
      "Requirement already satisfied: cairosvg in /Library/Frameworks/Python.framework/Versions/3.11/lib/python3.11/site-packages (2.7.1)\n",
      "Requirement already satisfied: cairocffi in /Library/Frameworks/Python.framework/Versions/3.11/lib/python3.11/site-packages (from cairosvg) (1.6.1)\n",
      "Requirement already satisfied: cssselect2 in /Library/Frameworks/Python.framework/Versions/3.11/lib/python3.11/site-packages (from cairosvg) (0.7.0)\n",
      "Requirement already satisfied: defusedxml in /Library/Frameworks/Python.framework/Versions/3.11/lib/python3.11/site-packages (from cairosvg) (0.7.1)\n",
      "Requirement already satisfied: pillow in /Library/Frameworks/Python.framework/Versions/3.11/lib/python3.11/site-packages (from cairosvg) (10.0.0)\n",
      "Requirement already satisfied: tinycss2 in /Library/Frameworks/Python.framework/Versions/3.11/lib/python3.11/site-packages (from cairosvg) (1.2.1)\n",
      "Requirement already satisfied: cffi>=1.1.0 in /Library/Frameworks/Python.framework/Versions/3.11/lib/python3.11/site-packages (from cairocffi->cairosvg) (1.15.1)\n",
      "Requirement already satisfied: webencodings in /Library/Frameworks/Python.framework/Versions/3.11/lib/python3.11/site-packages (from cssselect2->cairosvg) (0.5.1)\n",
      "Requirement already satisfied: pycparser in /Library/Frameworks/Python.framework/Versions/3.11/lib/python3.11/site-packages (from cffi>=1.1.0->cairocffi->cairosvg) (2.21)\n",
      "Note: you may need to restart the kernel to use updated packages.\n"
     ]
    }
   ],
   "source": [
    "pip install cairosvg\n"
   ]
  },
  {
   "cell_type": "code",
   "execution_count": 2,
   "metadata": {},
   "outputs": [],
   "source": [
    "# Declaration of colors and color palettes for visualization\n",
    "plot_dictcolor = {'Property damage only': 'rgb(104,158,207)',\n",
    "                  'Severe injury':        'rgb(245,87,91)',\n",
    "                  'Other injury':         'rgb(245,162,87)',\n",
    "                  'Fatal':                'rgb(161,161,161)',\n",
    "                  'Pain':                 'rgb(245,214,87)'}\n",
    "\n",
    "plot_dictcolor = {'Property damage only': 'rgb(104,158,207)',\n",
    "                  'Severe injury':        'rgb(245,87,91)',\n",
    "                  'Other injury':         'rgb(245,162,87)',\n",
    "                  'Fatal':                'rgb(161,161,161)',\n",
    "                  'Pain':                 'rgb(245,214,87)'}\n",
    "\n",
    "plot_bgcolor = 'rgb(249,249,249)'\n",
    "plot_linecolor = 'rgb(120,161,120)'"
   ]
  },
  {
   "cell_type": "code",
   "execution_count": 3,
   "metadata": {},
   "outputs": [
    {
     "name": "stdout",
     "output_type": "stream",
     "text": [
      "c:\\Users\\kelsey\\Desktop\\Fall Quarter\\BANA 212 - Data and Programming Analytics\\TeamProject\n"
     ]
    }
   ],
   "source": [
    "import os\n",
    "curDir = os.getcwd()\n",
    "print(curDir) "
   ]
  },
  {
   "cell_type": "code",
   "execution_count": 4,
   "metadata": {},
   "outputs": [],
   "source": [
    "conn=sqlite3.connect(curDir + '\\\\switrs.sqlite')\n",
    "\n",
    "cursor = conn.cursor()"
   ]
  },
  {
   "cell_type": "markdown",
   "metadata": {},
   "source": [
    "Take a look for each table "
   ]
  },
  {
   "cell_type": "code",
   "execution_count": 5,
   "metadata": {},
   "outputs": [
    {
     "data": {
      "text/plain": [
       "'2020-09-30'"
      ]
     },
     "execution_count": 5,
     "metadata": {},
     "output_type": "execute_result"
    }
   ],
   "source": [
    "#each dataset\n",
    "\n",
    "df_collision=pd.read_sql_query(\n",
    "    \"\"\"SELECT * \n",
    "    FROM collisions\n",
    "    LIMIT 10 \"\"\", conn)\n",
    "\n",
    "df_collision['process_date'].max()"
   ]
  },
  {
   "cell_type": "code",
   "execution_count": 6,
   "metadata": {},
   "outputs": [
    {
     "data": {
      "text/html": [
       "<div>\n",
       "<style scoped>\n",
       "    .dataframe tbody tr th:only-of-type {\n",
       "        vertical-align: middle;\n",
       "    }\n",
       "\n",
       "    .dataframe tbody tr th {\n",
       "        vertical-align: top;\n",
       "    }\n",
       "\n",
       "    .dataframe thead th {\n",
       "        text-align: right;\n",
       "    }\n",
       "</style>\n",
       "<table border=\"1\" class=\"dataframe\">\n",
       "  <thead>\n",
       "    <tr style=\"text-align: right;\">\n",
       "      <th></th>\n",
       "      <th>case_id</th>\n",
       "      <th>jurisdiction</th>\n",
       "      <th>officer_id</th>\n",
       "      <th>reporting_district</th>\n",
       "      <th>chp_shift</th>\n",
       "      <th>population</th>\n",
       "      <th>county_city_location</th>\n",
       "      <th>county_location</th>\n",
       "      <th>special_condition</th>\n",
       "      <th>beat_type</th>\n",
       "      <th>...</th>\n",
       "      <th>bicyclist_injured_count</th>\n",
       "      <th>motorcyclist_killed_count</th>\n",
       "      <th>motorcyclist_injured_count</th>\n",
       "      <th>primary_ramp</th>\n",
       "      <th>secondary_ramp</th>\n",
       "      <th>latitude</th>\n",
       "      <th>longitude</th>\n",
       "      <th>collision_date</th>\n",
       "      <th>collision_time</th>\n",
       "      <th>process_date</th>\n",
       "    </tr>\n",
       "  </thead>\n",
       "  <tbody>\n",
       "    <tr>\n",
       "      <th>0</th>\n",
       "      <td>0081715</td>\n",
       "      <td>1941</td>\n",
       "      <td>11342</td>\n",
       "      <td>212</td>\n",
       "      <td>not chp</td>\n",
       "      <td>&gt;250000</td>\n",
       "      <td>1941</td>\n",
       "      <td>los angeles</td>\n",
       "      <td>0</td>\n",
       "      <td>not chp</td>\n",
       "      <td>...</td>\n",
       "      <td>0</td>\n",
       "      <td>0</td>\n",
       "      <td>0</td>\n",
       "      <td>None</td>\n",
       "      <td>None</td>\n",
       "      <td>NaN</td>\n",
       "      <td>NaN</td>\n",
       "      <td>2020-03-14</td>\n",
       "      <td>07:45:00</td>\n",
       "      <td>2020-06-22</td>\n",
       "    </tr>\n",
       "    <tr>\n",
       "      <th>1</th>\n",
       "      <td>0726202</td>\n",
       "      <td>3600</td>\n",
       "      <td>8945</td>\n",
       "      <td>064</td>\n",
       "      <td>not chp</td>\n",
       "      <td>50000 to 100000</td>\n",
       "      <td>3612</td>\n",
       "      <td>san bernardino</td>\n",
       "      <td>0</td>\n",
       "      <td>not chp</td>\n",
       "      <td>...</td>\n",
       "      <td>0</td>\n",
       "      <td>0</td>\n",
       "      <td>0</td>\n",
       "      <td>None</td>\n",
       "      <td>None</td>\n",
       "      <td>NaN</td>\n",
       "      <td>NaN</td>\n",
       "      <td>2020-07-26</td>\n",
       "      <td>02:50:00</td>\n",
       "      <td>2020-09-30</td>\n",
       "    </tr>\n",
       "    <tr>\n",
       "      <th>2</th>\n",
       "      <td>3858022</td>\n",
       "      <td>1005</td>\n",
       "      <td>P379</td>\n",
       "      <td>2C</td>\n",
       "      <td>not chp</td>\n",
       "      <td>&gt;250000</td>\n",
       "      <td>1005</td>\n",
       "      <td>fresno</td>\n",
       "      <td>0</td>\n",
       "      <td>not chp</td>\n",
       "      <td>...</td>\n",
       "      <td>0</td>\n",
       "      <td>0</td>\n",
       "      <td>0</td>\n",
       "      <td>None</td>\n",
       "      <td>None</td>\n",
       "      <td>NaN</td>\n",
       "      <td>NaN</td>\n",
       "      <td>2009-02-03</td>\n",
       "      <td>17:11:00</td>\n",
       "      <td>2009-04-27</td>\n",
       "    </tr>\n",
       "    <tr>\n",
       "      <th>3</th>\n",
       "      <td>3899441</td>\n",
       "      <td>9120</td>\n",
       "      <td>17248</td>\n",
       "      <td>None</td>\n",
       "      <td>2200 thru 0559</td>\n",
       "      <td>2500 to 10000</td>\n",
       "      <td>0801</td>\n",
       "      <td>del norte</td>\n",
       "      <td>0</td>\n",
       "      <td>chp state highway</td>\n",
       "      <td>...</td>\n",
       "      <td>0</td>\n",
       "      <td>0</td>\n",
       "      <td>0</td>\n",
       "      <td>None</td>\n",
       "      <td>None</td>\n",
       "      <td>NaN</td>\n",
       "      <td>NaN</td>\n",
       "      <td>2009-02-28</td>\n",
       "      <td>01:45:00</td>\n",
       "      <td>2009-11-02</td>\n",
       "    </tr>\n",
       "    <tr>\n",
       "      <th>4</th>\n",
       "      <td>3899442</td>\n",
       "      <td>9530</td>\n",
       "      <td>19005</td>\n",
       "      <td>None</td>\n",
       "      <td>0600 thru 1359</td>\n",
       "      <td>&gt;250000</td>\n",
       "      <td>1942</td>\n",
       "      <td>los angeles</td>\n",
       "      <td>0</td>\n",
       "      <td>chp state highway</td>\n",
       "      <td>...</td>\n",
       "      <td>0</td>\n",
       "      <td>0</td>\n",
       "      <td>0</td>\n",
       "      <td>None</td>\n",
       "      <td>None</td>\n",
       "      <td>33.86465</td>\n",
       "      <td>-118.28533</td>\n",
       "      <td>2009-02-09</td>\n",
       "      <td>10:20:00</td>\n",
       "      <td>2010-01-14</td>\n",
       "    </tr>\n",
       "    <tr>\n",
       "      <th>5</th>\n",
       "      <td>3899445</td>\n",
       "      <td>9530</td>\n",
       "      <td>19284</td>\n",
       "      <td>None</td>\n",
       "      <td>1400 thru 2159</td>\n",
       "      <td>&gt;250000</td>\n",
       "      <td>1942</td>\n",
       "      <td>los angeles</td>\n",
       "      <td>0</td>\n",
       "      <td>chp state highway</td>\n",
       "      <td>...</td>\n",
       "      <td>0</td>\n",
       "      <td>0</td>\n",
       "      <td>0</td>\n",
       "      <td>None</td>\n",
       "      <td>None</td>\n",
       "      <td>33.79120</td>\n",
       "      <td>-118.28230</td>\n",
       "      <td>2009-02-18</td>\n",
       "      <td>15:50:00</td>\n",
       "      <td>2010-01-13</td>\n",
       "    </tr>\n",
       "    <tr>\n",
       "      <th>6</th>\n",
       "      <td>3899446</td>\n",
       "      <td>9530</td>\n",
       "      <td>19289</td>\n",
       "      <td>None</td>\n",
       "      <td>1400 thru 2159</td>\n",
       "      <td>25000 to 50000</td>\n",
       "      <td>1939</td>\n",
       "      <td>los angeles</td>\n",
       "      <td>0</td>\n",
       "      <td>chp state highway</td>\n",
       "      <td>...</td>\n",
       "      <td>0</td>\n",
       "      <td>0</td>\n",
       "      <td>0</td>\n",
       "      <td>None</td>\n",
       "      <td>None</td>\n",
       "      <td>33.88450</td>\n",
       "      <td>-118.35260</td>\n",
       "      <td>2009-02-11</td>\n",
       "      <td>17:35:00</td>\n",
       "      <td>2010-01-11</td>\n",
       "    </tr>\n",
       "    <tr>\n",
       "      <th>7</th>\n",
       "      <td>3899449</td>\n",
       "      <td>9530</td>\n",
       "      <td>19374</td>\n",
       "      <td>None</td>\n",
       "      <td>1400 thru 2159</td>\n",
       "      <td>&gt;250000</td>\n",
       "      <td>1941</td>\n",
       "      <td>los angeles</td>\n",
       "      <td>0</td>\n",
       "      <td>chp state highway</td>\n",
       "      <td>...</td>\n",
       "      <td>0</td>\n",
       "      <td>0</td>\n",
       "      <td>0</td>\n",
       "      <td>None</td>\n",
       "      <td>None</td>\n",
       "      <td>33.83197</td>\n",
       "      <td>-118.20906</td>\n",
       "      <td>2009-02-13</td>\n",
       "      <td>21:20:00</td>\n",
       "      <td>2009-12-30</td>\n",
       "    </tr>\n",
       "    <tr>\n",
       "      <th>8</th>\n",
       "      <td>3899450</td>\n",
       "      <td>9530</td>\n",
       "      <td>19374</td>\n",
       "      <td>None</td>\n",
       "      <td>1400 thru 2159</td>\n",
       "      <td>&gt;250000</td>\n",
       "      <td>1941</td>\n",
       "      <td>los angeles</td>\n",
       "      <td>0</td>\n",
       "      <td>chp state highway</td>\n",
       "      <td>...</td>\n",
       "      <td>0</td>\n",
       "      <td>0</td>\n",
       "      <td>0</td>\n",
       "      <td>None</td>\n",
       "      <td>None</td>\n",
       "      <td>33.82693</td>\n",
       "      <td>-118.20770</td>\n",
       "      <td>2009-02-13</td>\n",
       "      <td>20:40:00</td>\n",
       "      <td>2009-12-30</td>\n",
       "    </tr>\n",
       "    <tr>\n",
       "      <th>9</th>\n",
       "      <td>3899453</td>\n",
       "      <td>9530</td>\n",
       "      <td>18723</td>\n",
       "      <td>None</td>\n",
       "      <td>1400 thru 2159</td>\n",
       "      <td>unincorporated</td>\n",
       "      <td>1900</td>\n",
       "      <td>los angeles</td>\n",
       "      <td>0</td>\n",
       "      <td>chp state highway</td>\n",
       "      <td>...</td>\n",
       "      <td>0</td>\n",
       "      <td>0</td>\n",
       "      <td>0</td>\n",
       "      <td>None</td>\n",
       "      <td>None</td>\n",
       "      <td>33.87343</td>\n",
       "      <td>-118.20861</td>\n",
       "      <td>2009-02-13</td>\n",
       "      <td>18:20:00</td>\n",
       "      <td>2010-01-12</td>\n",
       "    </tr>\n",
       "  </tbody>\n",
       "</table>\n",
       "<p>10 rows × 75 columns</p>\n",
       "</div>"
      ],
      "text/plain": [
       "   case_id  jurisdiction officer_id reporting_district       chp_shift  \\\n",
       "0  0081715          1941      11342                212         not chp   \n",
       "1  0726202          3600       8945                064         not chp   \n",
       "2  3858022          1005       P379                 2C         not chp   \n",
       "3  3899441          9120      17248               None  2200 thru 0559   \n",
       "4  3899442          9530      19005               None  0600 thru 1359   \n",
       "5  3899445          9530      19284               None  1400 thru 2159   \n",
       "6  3899446          9530      19289               None  1400 thru 2159   \n",
       "7  3899449          9530      19374               None  1400 thru 2159   \n",
       "8  3899450          9530      19374               None  1400 thru 2159   \n",
       "9  3899453          9530      18723               None  1400 thru 2159   \n",
       "\n",
       "        population county_city_location county_location special_condition  \\\n",
       "0          >250000                 1941     los angeles                 0   \n",
       "1  50000 to 100000                 3612  san bernardino                 0   \n",
       "2          >250000                 1005          fresno                 0   \n",
       "3    2500 to 10000                 0801       del norte                 0   \n",
       "4          >250000                 1942     los angeles                 0   \n",
       "5          >250000                 1942     los angeles                 0   \n",
       "6   25000 to 50000                 1939     los angeles                 0   \n",
       "7          >250000                 1941     los angeles                 0   \n",
       "8          >250000                 1941     los angeles                 0   \n",
       "9   unincorporated                 1900     los angeles                 0   \n",
       "\n",
       "           beat_type  ... bicyclist_injured_count motorcyclist_killed_count  \\\n",
       "0            not chp  ...                       0                         0   \n",
       "1            not chp  ...                       0                         0   \n",
       "2            not chp  ...                       0                         0   \n",
       "3  chp state highway  ...                       0                         0   \n",
       "4  chp state highway  ...                       0                         0   \n",
       "5  chp state highway  ...                       0                         0   \n",
       "6  chp state highway  ...                       0                         0   \n",
       "7  chp state highway  ...                       0                         0   \n",
       "8  chp state highway  ...                       0                         0   \n",
       "9  chp state highway  ...                       0                         0   \n",
       "\n",
       "  motorcyclist_injured_count primary_ramp secondary_ramp  latitude  longitude  \\\n",
       "0                          0         None           None       NaN        NaN   \n",
       "1                          0         None           None       NaN        NaN   \n",
       "2                          0         None           None       NaN        NaN   \n",
       "3                          0         None           None       NaN        NaN   \n",
       "4                          0         None           None  33.86465 -118.28533   \n",
       "5                          0         None           None  33.79120 -118.28230   \n",
       "6                          0         None           None  33.88450 -118.35260   \n",
       "7                          0         None           None  33.83197 -118.20906   \n",
       "8                          0         None           None  33.82693 -118.20770   \n",
       "9                          0         None           None  33.87343 -118.20861   \n",
       "\n",
       "  collision_date  collision_time process_date  \n",
       "0     2020-03-14        07:45:00   2020-06-22  \n",
       "1     2020-07-26        02:50:00   2020-09-30  \n",
       "2     2009-02-03        17:11:00   2009-04-27  \n",
       "3     2009-02-28        01:45:00   2009-11-02  \n",
       "4     2009-02-09        10:20:00   2010-01-14  \n",
       "5     2009-02-18        15:50:00   2010-01-13  \n",
       "6     2009-02-11        17:35:00   2010-01-11  \n",
       "7     2009-02-13        21:20:00   2009-12-30  \n",
       "8     2009-02-13        20:40:00   2009-12-30  \n",
       "9     2009-02-13        18:20:00   2010-01-12  \n",
       "\n",
       "[10 rows x 75 columns]"
      ]
     },
     "execution_count": 6,
     "metadata": {},
     "output_type": "execute_result"
    }
   ],
   "source": [
    "#clean collision data\n",
    "\n",
    "df_collision"
   ]
  },
  {
   "cell_type": "code",
   "execution_count": 8,
   "metadata": {},
   "outputs": [
    {
     "data": {
      "text/html": [
       "<div>\n",
       "<style scoped>\n",
       "    .dataframe tbody tr th:only-of-type {\n",
       "        vertical-align: middle;\n",
       "    }\n",
       "\n",
       "    .dataframe tbody tr th {\n",
       "        vertical-align: top;\n",
       "    }\n",
       "\n",
       "    .dataframe thead th {\n",
       "        text-align: right;\n",
       "    }\n",
       "</style>\n",
       "<table border=\"1\" class=\"dataframe\">\n",
       "  <thead>\n",
       "    <tr style=\"text-align: right;\">\n",
       "      <th></th>\n",
       "      <th>case_id</th>\n",
       "      <th>db_year</th>\n",
       "    </tr>\n",
       "  </thead>\n",
       "  <tbody>\n",
       "    <tr>\n",
       "      <th>0</th>\n",
       "      <td>0081715</td>\n",
       "      <td>2021</td>\n",
       "    </tr>\n",
       "    <tr>\n",
       "      <th>1</th>\n",
       "      <td>0726202</td>\n",
       "      <td>2021</td>\n",
       "    </tr>\n",
       "    <tr>\n",
       "      <th>2</th>\n",
       "      <td>3858022</td>\n",
       "      <td>2021</td>\n",
       "    </tr>\n",
       "    <tr>\n",
       "      <th>3</th>\n",
       "      <td>3899441</td>\n",
       "      <td>2021</td>\n",
       "    </tr>\n",
       "    <tr>\n",
       "      <th>4</th>\n",
       "      <td>3899442</td>\n",
       "      <td>2021</td>\n",
       "    </tr>\n",
       "  </tbody>\n",
       "</table>\n",
       "</div>"
      ],
      "text/plain": [
       "   case_id db_year\n",
       "0  0081715    2021\n",
       "1  0726202    2021\n",
       "2  3858022    2021\n",
       "3  3899441    2021\n",
       "4  3899442    2021"
      ]
     },
     "execution_count": 8,
     "metadata": {},
     "output_type": "execute_result"
    }
   ],
   "source": [
    "df_case_ids=pd.read_sql_query(\n",
    "    \"\"\"select * from case_ids\n",
    "    LIMIT 5\"\"\", conn)\n",
    "\n",
    "df_case_ids"
   ]
  },
  {
   "cell_type": "code",
   "execution_count": null,
   "metadata": {},
   "outputs": [
    {
     "data": {
      "text/html": [
       "<div>\n",
       "<style scoped>\n",
       "    .dataframe tbody tr th:only-of-type {\n",
       "        vertical-align: middle;\n",
       "    }\n",
       "\n",
       "    .dataframe tbody tr th {\n",
       "        vertical-align: top;\n",
       "    }\n",
       "\n",
       "    .dataframe thead th {\n",
       "        text-align: right;\n",
       "    }\n",
       "</style>\n",
       "<table border=\"1\" class=\"dataframe\">\n",
       "  <thead>\n",
       "    <tr style=\"text-align: right;\">\n",
       "      <th></th>\n",
       "      <th>id</th>\n",
       "      <th>case_id</th>\n",
       "      <th>party_number</th>\n",
       "      <th>victim_role</th>\n",
       "      <th>victim_sex</th>\n",
       "      <th>victim_age</th>\n",
       "      <th>victim_degree_of_injury</th>\n",
       "      <th>victim_seating_position</th>\n",
       "      <th>victim_safety_equipment_1</th>\n",
       "      <th>victim_safety_equipment_2</th>\n",
       "      <th>victim_ejected</th>\n",
       "    </tr>\n",
       "  </thead>\n",
       "  <tbody>\n",
       "    <tr>\n",
       "      <th>0</th>\n",
       "      <td>1</td>\n",
       "      <td>3858022</td>\n",
       "      <td>1</td>\n",
       "      <td>passenger</td>\n",
       "      <td>female</td>\n",
       "      <td>24.0</td>\n",
       "      <td>no injury</td>\n",
       "      <td>passenger seat 4</td>\n",
       "      <td>air bag not deployed</td>\n",
       "      <td>None</td>\n",
       "      <td>not ejected</td>\n",
       "    </tr>\n",
       "    <tr>\n",
       "      <th>1</th>\n",
       "      <td>2</td>\n",
       "      <td>3858022</td>\n",
       "      <td>1</td>\n",
       "      <td>passenger</td>\n",
       "      <td>male</td>\n",
       "      <td>31.0</td>\n",
       "      <td>no injury</td>\n",
       "      <td>passenger seat 6</td>\n",
       "      <td>air bag not deployed</td>\n",
       "      <td>None</td>\n",
       "      <td>not ejected</td>\n",
       "    </tr>\n",
       "    <tr>\n",
       "      <th>2</th>\n",
       "      <td>3</td>\n",
       "      <td>3899450</td>\n",
       "      <td>1</td>\n",
       "      <td>driver</td>\n",
       "      <td>female</td>\n",
       "      <td>72.0</td>\n",
       "      <td>complaint of pain</td>\n",
       "      <td>driver</td>\n",
       "      <td>air bag not deployed</td>\n",
       "      <td>lap/shoulder harness used</td>\n",
       "      <td>not ejected</td>\n",
       "    </tr>\n",
       "    <tr>\n",
       "      <th>3</th>\n",
       "      <td>4</td>\n",
       "      <td>3899453</td>\n",
       "      <td>2</td>\n",
       "      <td>driver</td>\n",
       "      <td>male</td>\n",
       "      <td>66.0</td>\n",
       "      <td>complaint of pain</td>\n",
       "      <td>driver</td>\n",
       "      <td>air bag deployed</td>\n",
       "      <td>lap/shoulder harness used</td>\n",
       "      <td>not ejected</td>\n",
       "    </tr>\n",
       "    <tr>\n",
       "      <th>4</th>\n",
       "      <td>5</td>\n",
       "      <td>3899453</td>\n",
       "      <td>3</td>\n",
       "      <td>passenger</td>\n",
       "      <td>male</td>\n",
       "      <td>65.0</td>\n",
       "      <td>no injury</td>\n",
       "      <td>passenger seat 3</td>\n",
       "      <td>air bag not deployed</td>\n",
       "      <td>lap/shoulder harness used</td>\n",
       "      <td>not ejected</td>\n",
       "    </tr>\n",
       "    <tr>\n",
       "      <th>...</th>\n",
       "      <td>...</td>\n",
       "      <td>...</td>\n",
       "      <td>...</td>\n",
       "      <td>...</td>\n",
       "      <td>...</td>\n",
       "      <td>...</td>\n",
       "      <td>...</td>\n",
       "      <td>...</td>\n",
       "      <td>...</td>\n",
       "      <td>...</td>\n",
       "      <td>...</td>\n",
       "    </tr>\n",
       "    <tr>\n",
       "      <th>9639329</th>\n",
       "      <td>7381156</td>\n",
       "      <td>8054630</td>\n",
       "      <td>1</td>\n",
       "      <td>bicyclist</td>\n",
       "      <td>male</td>\n",
       "      <td>36.0</td>\n",
       "      <td>other visible injury</td>\n",
       "      <td>position unknown</td>\n",
       "      <td>driver, motorcycle helmet not used</td>\n",
       "      <td>None</td>\n",
       "      <td>fully ejected</td>\n",
       "    </tr>\n",
       "    <tr>\n",
       "      <th>9639330</th>\n",
       "      <td>7435596</td>\n",
       "      <td>8112338</td>\n",
       "      <td>2</td>\n",
       "      <td>driver</td>\n",
       "      <td>None</td>\n",
       "      <td>59.0</td>\n",
       "      <td>complaint of pain</td>\n",
       "      <td>driver</td>\n",
       "      <td>passenger, motorcycle helmet used</td>\n",
       "      <td>None</td>\n",
       "      <td>not ejected</td>\n",
       "    </tr>\n",
       "    <tr>\n",
       "      <th>9639331</th>\n",
       "      <td>7444031</td>\n",
       "      <td>8121975</td>\n",
       "      <td>1</td>\n",
       "      <td>driver</td>\n",
       "      <td>female</td>\n",
       "      <td>17.0</td>\n",
       "      <td>complaint of pain</td>\n",
       "      <td>driver</td>\n",
       "      <td>air bag not deployed</td>\n",
       "      <td>lap/shoulder harness used</td>\n",
       "      <td>not ejected</td>\n",
       "    </tr>\n",
       "    <tr>\n",
       "      <th>9639332</th>\n",
       "      <td>7691637</td>\n",
       "      <td>90219813</td>\n",
       "      <td>2</td>\n",
       "      <td>passenger</td>\n",
       "      <td>female</td>\n",
       "      <td>15.0</td>\n",
       "      <td>complaint of pain</td>\n",
       "      <td>passenger seat 4</td>\n",
       "      <td>not required</td>\n",
       "      <td>lap/shoulder harness used</td>\n",
       "      <td>not ejected</td>\n",
       "    </tr>\n",
       "    <tr>\n",
       "      <th>9639333</th>\n",
       "      <td>7691638</td>\n",
       "      <td>90219813</td>\n",
       "      <td>2</td>\n",
       "      <td>passenger</td>\n",
       "      <td>female</td>\n",
       "      <td>22.0</td>\n",
       "      <td>no injury</td>\n",
       "      <td>passenger seat 3</td>\n",
       "      <td>air bag not deployed</td>\n",
       "      <td>lap/shoulder harness used</td>\n",
       "      <td>not ejected</td>\n",
       "    </tr>\n",
       "  </tbody>\n",
       "</table>\n",
       "<p>9639334 rows × 11 columns</p>\n",
       "</div>"
      ],
      "text/plain": [
       "              id   case_id  party_number victim_role victim_sex  victim_age  \\\n",
       "0              1   3858022             1   passenger     female        24.0   \n",
       "1              2   3858022             1   passenger       male        31.0   \n",
       "2              3   3899450             1      driver     female        72.0   \n",
       "3              4   3899453             2      driver       male        66.0   \n",
       "4              5   3899453             3   passenger       male        65.0   \n",
       "...          ...       ...           ...         ...        ...         ...   \n",
       "9639329  7381156   8054630             1   bicyclist       male        36.0   \n",
       "9639330  7435596   8112338             2      driver       None        59.0   \n",
       "9639331  7444031   8121975             1      driver     female        17.0   \n",
       "9639332  7691637  90219813             2   passenger     female        15.0   \n",
       "9639333  7691638  90219813             2   passenger     female        22.0   \n",
       "\n",
       "        victim_degree_of_injury victim_seating_position  \\\n",
       "0                     no injury        passenger seat 4   \n",
       "1                     no injury        passenger seat 6   \n",
       "2             complaint of pain                  driver   \n",
       "3             complaint of pain                  driver   \n",
       "4                     no injury        passenger seat 3   \n",
       "...                         ...                     ...   \n",
       "9639329    other visible injury        position unknown   \n",
       "9639330       complaint of pain                  driver   \n",
       "9639331       complaint of pain                  driver   \n",
       "9639332       complaint of pain        passenger seat 4   \n",
       "9639333               no injury        passenger seat 3   \n",
       "\n",
       "                  victim_safety_equipment_1  victim_safety_equipment_2  \\\n",
       "0                      air bag not deployed                       None   \n",
       "1                      air bag not deployed                       None   \n",
       "2                      air bag not deployed  lap/shoulder harness used   \n",
       "3                          air bag deployed  lap/shoulder harness used   \n",
       "4                      air bag not deployed  lap/shoulder harness used   \n",
       "...                                     ...                        ...   \n",
       "9639329  driver, motorcycle helmet not used                       None   \n",
       "9639330   passenger, motorcycle helmet used                       None   \n",
       "9639331                air bag not deployed  lap/shoulder harness used   \n",
       "9639332                        not required  lap/shoulder harness used   \n",
       "9639333                air bag not deployed  lap/shoulder harness used   \n",
       "\n",
       "        victim_ejected  \n",
       "0          not ejected  \n",
       "1          not ejected  \n",
       "2          not ejected  \n",
       "3          not ejected  \n",
       "4          not ejected  \n",
       "...                ...  \n",
       "9639329  fully ejected  \n",
       "9639330    not ejected  \n",
       "9639331    not ejected  \n",
       "9639332    not ejected  \n",
       "9639333    not ejected  \n",
       "\n",
       "[9639334 rows x 11 columns]"
      ]
     },
     "execution_count": 6,
     "metadata": {},
     "output_type": "execute_result"
    }
   ],
   "source": [
    "df_victims=pd.read_sql_query(\n",
    "    \"\"\"select * from victims\"\"\", conn)\n",
    "\n",
    "\n",
    "df_victims"
   ]
  },
  {
   "cell_type": "code",
   "execution_count": 5,
   "metadata": {},
   "outputs": [],
   "source": [
    "df_collisions=pd.read_sql_query(\n",
    "    \"\"\"select * from collisions\"\"\", conn)\n",
    "\n",
    "df_collisions = df_collisions.dropna()\n",
    "df_collisions.head(10)"
   ]
  },
  {
   "cell_type": "code",
   "execution_count": null,
   "metadata": {},
   "outputs": [],
   "source": [
    "df_parties=pd.read_sql_query(\n",
    "    \"\"\"select * from parties\"\"\", conn)\n",
    "\n",
    "\n",
    "df_parties"
   ]
  },
  {
   "cell_type": "code",
   "execution_count": null,
   "metadata": {},
   "outputs": [
    {
     "data": {
      "text/html": [
       "<div>\n",
       "<style scoped>\n",
       "    .dataframe tbody tr th:only-of-type {\n",
       "        vertical-align: middle;\n",
       "    }\n",
       "\n",
       "    .dataframe tbody tr th {\n",
       "        vertical-align: top;\n",
       "    }\n",
       "\n",
       "    .dataframe thead th {\n",
       "        text-align: right;\n",
       "    }\n",
       "</style>\n",
       "<table border=\"1\" class=\"dataframe\">\n",
       "  <thead>\n",
       "    <tr style=\"text-align: right;\">\n",
       "      <th></th>\n",
       "      <th>id</th>\n",
       "      <th>case_id</th>\n",
       "      <th>party_number</th>\n",
       "      <th>victim_role</th>\n",
       "      <th>victim_sex</th>\n",
       "      <th>victim_age</th>\n",
       "      <th>victim_degree_of_injury</th>\n",
       "      <th>victim_seating_position</th>\n",
       "      <th>victim_safety_equipment_1</th>\n",
       "      <th>victim_safety_equipment_2</th>\n",
       "      <th>victim_ejected</th>\n",
       "    </tr>\n",
       "  </thead>\n",
       "  <tbody>\n",
       "    <tr>\n",
       "      <th>2</th>\n",
       "      <td>3</td>\n",
       "      <td>3899450</td>\n",
       "      <td>1</td>\n",
       "      <td>driver</td>\n",
       "      <td>female</td>\n",
       "      <td>72.0</td>\n",
       "      <td>complaint of pain</td>\n",
       "      <td>driver</td>\n",
       "      <td>air bag not deployed</td>\n",
       "      <td>lap/shoulder harness used</td>\n",
       "      <td>not ejected</td>\n",
       "    </tr>\n",
       "    <tr>\n",
       "      <th>3</th>\n",
       "      <td>4</td>\n",
       "      <td>3899453</td>\n",
       "      <td>2</td>\n",
       "      <td>driver</td>\n",
       "      <td>male</td>\n",
       "      <td>66.0</td>\n",
       "      <td>complaint of pain</td>\n",
       "      <td>driver</td>\n",
       "      <td>air bag deployed</td>\n",
       "      <td>lap/shoulder harness used</td>\n",
       "      <td>not ejected</td>\n",
       "    </tr>\n",
       "    <tr>\n",
       "      <th>4</th>\n",
       "      <td>5</td>\n",
       "      <td>3899453</td>\n",
       "      <td>3</td>\n",
       "      <td>passenger</td>\n",
       "      <td>male</td>\n",
       "      <td>65.0</td>\n",
       "      <td>no injury</td>\n",
       "      <td>passenger seat 3</td>\n",
       "      <td>air bag not deployed</td>\n",
       "      <td>lap/shoulder harness used</td>\n",
       "      <td>not ejected</td>\n",
       "    </tr>\n",
       "    <tr>\n",
       "      <th>7</th>\n",
       "      <td>8</td>\n",
       "      <td>3899457</td>\n",
       "      <td>1</td>\n",
       "      <td>passenger</td>\n",
       "      <td>female</td>\n",
       "      <td>60.0</td>\n",
       "      <td>no injury</td>\n",
       "      <td>passenger seat 3</td>\n",
       "      <td>air bag not deployed</td>\n",
       "      <td>lap/shoulder harness used</td>\n",
       "      <td>not ejected</td>\n",
       "    </tr>\n",
       "    <tr>\n",
       "      <th>8</th>\n",
       "      <td>9</td>\n",
       "      <td>3899457</td>\n",
       "      <td>2</td>\n",
       "      <td>passenger</td>\n",
       "      <td>female</td>\n",
       "      <td>1.0</td>\n",
       "      <td>no injury</td>\n",
       "      <td>passenger seat 6</td>\n",
       "      <td>air bag not deployed</td>\n",
       "      <td>child restraint in vehicle used</td>\n",
       "      <td>not ejected</td>\n",
       "    </tr>\n",
       "    <tr>\n",
       "      <th>...</th>\n",
       "      <td>...</td>\n",
       "      <td>...</td>\n",
       "      <td>...</td>\n",
       "      <td>...</td>\n",
       "      <td>...</td>\n",
       "      <td>...</td>\n",
       "      <td>...</td>\n",
       "      <td>...</td>\n",
       "      <td>...</td>\n",
       "      <td>...</td>\n",
       "      <td>...</td>\n",
       "    </tr>\n",
       "    <tr>\n",
       "      <th>9639327</th>\n",
       "      <td>7380724</td>\n",
       "      <td>8054130</td>\n",
       "      <td>1</td>\n",
       "      <td>passenger</td>\n",
       "      <td>male</td>\n",
       "      <td>45.0</td>\n",
       "      <td>no injury</td>\n",
       "      <td>passenger seat 3</td>\n",
       "      <td>air bag not deployed</td>\n",
       "      <td>lap/shoulder harness used</td>\n",
       "      <td>not ejected</td>\n",
       "    </tr>\n",
       "    <tr>\n",
       "      <th>9639328</th>\n",
       "      <td>7380726</td>\n",
       "      <td>8054130</td>\n",
       "      <td>2</td>\n",
       "      <td>passenger</td>\n",
       "      <td>male</td>\n",
       "      <td>23.0</td>\n",
       "      <td>complaint of pain</td>\n",
       "      <td>passenger seat 3</td>\n",
       "      <td>air bag deployed</td>\n",
       "      <td>lap/shoulder harness used</td>\n",
       "      <td>not ejected</td>\n",
       "    </tr>\n",
       "    <tr>\n",
       "      <th>9639331</th>\n",
       "      <td>7444031</td>\n",
       "      <td>8121975</td>\n",
       "      <td>1</td>\n",
       "      <td>driver</td>\n",
       "      <td>female</td>\n",
       "      <td>17.0</td>\n",
       "      <td>complaint of pain</td>\n",
       "      <td>driver</td>\n",
       "      <td>air bag not deployed</td>\n",
       "      <td>lap/shoulder harness used</td>\n",
       "      <td>not ejected</td>\n",
       "    </tr>\n",
       "    <tr>\n",
       "      <th>9639332</th>\n",
       "      <td>7691637</td>\n",
       "      <td>90219813</td>\n",
       "      <td>2</td>\n",
       "      <td>passenger</td>\n",
       "      <td>female</td>\n",
       "      <td>15.0</td>\n",
       "      <td>complaint of pain</td>\n",
       "      <td>passenger seat 4</td>\n",
       "      <td>not required</td>\n",
       "      <td>lap/shoulder harness used</td>\n",
       "      <td>not ejected</td>\n",
       "    </tr>\n",
       "    <tr>\n",
       "      <th>9639333</th>\n",
       "      <td>7691638</td>\n",
       "      <td>90219813</td>\n",
       "      <td>2</td>\n",
       "      <td>passenger</td>\n",
       "      <td>female</td>\n",
       "      <td>22.0</td>\n",
       "      <td>no injury</td>\n",
       "      <td>passenger seat 3</td>\n",
       "      <td>air bag not deployed</td>\n",
       "      <td>lap/shoulder harness used</td>\n",
       "      <td>not ejected</td>\n",
       "    </tr>\n",
       "  </tbody>\n",
       "</table>\n",
       "<p>6141562 rows × 11 columns</p>\n",
       "</div>"
      ],
      "text/plain": [
       "              id   case_id  party_number victim_role victim_sex  victim_age  \\\n",
       "2              3   3899450             1      driver     female        72.0   \n",
       "3              4   3899453             2      driver       male        66.0   \n",
       "4              5   3899453             3   passenger       male        65.0   \n",
       "7              8   3899457             1   passenger     female        60.0   \n",
       "8              9   3899457             2   passenger     female         1.0   \n",
       "...          ...       ...           ...         ...        ...         ...   \n",
       "9639327  7380724   8054130             1   passenger       male        45.0   \n",
       "9639328  7380726   8054130             2   passenger       male        23.0   \n",
       "9639331  7444031   8121975             1      driver     female        17.0   \n",
       "9639332  7691637  90219813             2   passenger     female        15.0   \n",
       "9639333  7691638  90219813             2   passenger     female        22.0   \n",
       "\n",
       "        victim_degree_of_injury victim_seating_position  \\\n",
       "2             complaint of pain                  driver   \n",
       "3             complaint of pain                  driver   \n",
       "4                     no injury        passenger seat 3   \n",
       "7                     no injury        passenger seat 3   \n",
       "8                     no injury        passenger seat 6   \n",
       "...                         ...                     ...   \n",
       "9639327               no injury        passenger seat 3   \n",
       "9639328       complaint of pain        passenger seat 3   \n",
       "9639331       complaint of pain                  driver   \n",
       "9639332       complaint of pain        passenger seat 4   \n",
       "9639333               no injury        passenger seat 3   \n",
       "\n",
       "        victim_safety_equipment_1        victim_safety_equipment_2  \\\n",
       "2            air bag not deployed        lap/shoulder harness used   \n",
       "3                air bag deployed        lap/shoulder harness used   \n",
       "4            air bag not deployed        lap/shoulder harness used   \n",
       "7            air bag not deployed        lap/shoulder harness used   \n",
       "8            air bag not deployed  child restraint in vehicle used   \n",
       "...                           ...                              ...   \n",
       "9639327      air bag not deployed        lap/shoulder harness used   \n",
       "9639328          air bag deployed        lap/shoulder harness used   \n",
       "9639331      air bag not deployed        lap/shoulder harness used   \n",
       "9639332              not required        lap/shoulder harness used   \n",
       "9639333      air bag not deployed        lap/shoulder harness used   \n",
       "\n",
       "        victim_ejected  \n",
       "2          not ejected  \n",
       "3          not ejected  \n",
       "4          not ejected  \n",
       "7          not ejected  \n",
       "8          not ejected  \n",
       "...                ...  \n",
       "9639327    not ejected  \n",
       "9639328    not ejected  \n",
       "9639331    not ejected  \n",
       "9639332    not ejected  \n",
       "9639333    not ejected  \n",
       "\n",
       "[6141562 rows x 11 columns]"
      ]
     },
     "execution_count": 7,
     "metadata": {},
     "output_type": "execute_result"
    }
   ],
   "source": [
    "df_victims = df_victims.dropna()\n",
    "df_case_ids = df_case_ids.dropna()\n",
    "df_collisions = df_collisions.dropna()\n",
    "df_parties = df_parties.dropna()\n",
    "\n",
    "\n",
    "df_victims"
   ]
  },
  {
   "cell_type": "code",
   "execution_count": null,
   "metadata": {},
   "outputs": [
    {
     "data": {
      "text/html": [
       "<div>\n",
       "<style scoped>\n",
       "    .dataframe tbody tr th:only-of-type {\n",
       "        vertical-align: middle;\n",
       "    }\n",
       "\n",
       "    .dataframe tbody tr th {\n",
       "        vertical-align: top;\n",
       "    }\n",
       "\n",
       "    .dataframe thead th {\n",
       "        text-align: right;\n",
       "    }\n",
       "</style>\n",
       "<table border=\"1\" class=\"dataframe\">\n",
       "  <thead>\n",
       "    <tr style=\"text-align: right;\">\n",
       "      <th></th>\n",
       "      <th>id</th>\n",
       "      <th>case_id</th>\n",
       "      <th>party_number</th>\n",
       "      <th>party_type</th>\n",
       "      <th>at_fault</th>\n",
       "      <th>party_sex</th>\n",
       "      <th>party_age</th>\n",
       "      <th>party_sobriety</th>\n",
       "      <th>party_drug_physical</th>\n",
       "      <th>direction_of_travel</th>\n",
       "      <th>...</th>\n",
       "      <th>other_associate_factor_2</th>\n",
       "      <th>party_number_killed</th>\n",
       "      <th>party_number_injured</th>\n",
       "      <th>movement_preceding_collision</th>\n",
       "      <th>vehicle_year</th>\n",
       "      <th>vehicle_make</th>\n",
       "      <th>statewide_vehicle_type</th>\n",
       "      <th>chp_vehicle_type_towing</th>\n",
       "      <th>chp_vehicle_type_towed</th>\n",
       "      <th>party_race</th>\n",
       "    </tr>\n",
       "  </thead>\n",
       "  <tbody>\n",
       "    <tr>\n",
       "      <th>0</th>\n",
       "      <td>1</td>\n",
       "      <td>0081715</td>\n",
       "      <td>1</td>\n",
       "      <td>driver</td>\n",
       "      <td>1</td>\n",
       "      <td>female</td>\n",
       "      <td>35.0</td>\n",
       "      <td>not applicable</td>\n",
       "      <td>not applicable</td>\n",
       "      <td>north</td>\n",
       "      <td>...</td>\n",
       "      <td>None</td>\n",
       "      <td>0</td>\n",
       "      <td>0</td>\n",
       "      <td>proceeding straight</td>\n",
       "      <td>2007</td>\n",
       "      <td>ford</td>\n",
       "      <td>None</td>\n",
       "      <td>None</td>\n",
       "      <td>None</td>\n",
       "      <td>other</td>\n",
       "    </tr>\n",
       "    <tr>\n",
       "      <th>1</th>\n",
       "      <td>2</td>\n",
       "      <td>0081715</td>\n",
       "      <td>2</td>\n",
       "      <td>driver</td>\n",
       "      <td>0</td>\n",
       "      <td>female</td>\n",
       "      <td>43.0</td>\n",
       "      <td>not applicable</td>\n",
       "      <td>not applicable</td>\n",
       "      <td>north</td>\n",
       "      <td>...</td>\n",
       "      <td>None</td>\n",
       "      <td>0</td>\n",
       "      <td>0</td>\n",
       "      <td>proceeding straight</td>\n",
       "      <td>2019</td>\n",
       "      <td>None</td>\n",
       "      <td>None</td>\n",
       "      <td>None</td>\n",
       "      <td>None</td>\n",
       "      <td>hispanic</td>\n",
       "    </tr>\n",
       "    <tr>\n",
       "      <th>2</th>\n",
       "      <td>3</td>\n",
       "      <td>0726202</td>\n",
       "      <td>1</td>\n",
       "      <td>driver</td>\n",
       "      <td>1</td>\n",
       "      <td>None</td>\n",
       "      <td>NaN</td>\n",
       "      <td>impairment unknown</td>\n",
       "      <td>G</td>\n",
       "      <td>north</td>\n",
       "      <td>...</td>\n",
       "      <td>None</td>\n",
       "      <td>0</td>\n",
       "      <td>0</td>\n",
       "      <td>proceeding straight</td>\n",
       "      <td>2005</td>\n",
       "      <td>None</td>\n",
       "      <td>passenger car</td>\n",
       "      <td>passenger car, station</td>\n",
       "      <td>None</td>\n",
       "      <td>None</td>\n",
       "    </tr>\n",
       "    <tr>\n",
       "      <th>3</th>\n",
       "      <td>4</td>\n",
       "      <td>3858022</td>\n",
       "      <td>1</td>\n",
       "      <td>driver</td>\n",
       "      <td>1</td>\n",
       "      <td>male</td>\n",
       "      <td>47.0</td>\n",
       "      <td>impairment unknown</td>\n",
       "      <td>G</td>\n",
       "      <td>east</td>\n",
       "      <td>...</td>\n",
       "      <td>None</td>\n",
       "      <td>0</td>\n",
       "      <td>0</td>\n",
       "      <td>None</td>\n",
       "      <td>2007</td>\n",
       "      <td>dodge</td>\n",
       "      <td>emergency vehicle</td>\n",
       "      <td>police car</td>\n",
       "      <td>00</td>\n",
       "      <td>black</td>\n",
       "    </tr>\n",
       "    <tr>\n",
       "      <th>4</th>\n",
       "      <td>5</td>\n",
       "      <td>3858022</td>\n",
       "      <td>2</td>\n",
       "      <td>driver</td>\n",
       "      <td>0</td>\n",
       "      <td>male</td>\n",
       "      <td>58.0</td>\n",
       "      <td>had not been drinking</td>\n",
       "      <td>None</td>\n",
       "      <td>east</td>\n",
       "      <td>...</td>\n",
       "      <td>None</td>\n",
       "      <td>0</td>\n",
       "      <td>0</td>\n",
       "      <td>None</td>\n",
       "      <td>2006</td>\n",
       "      <td>nissan</td>\n",
       "      <td>None</td>\n",
       "      <td>None</td>\n",
       "      <td>00</td>\n",
       "      <td>hispanic</td>\n",
       "    </tr>\n",
       "  </tbody>\n",
       "</table>\n",
       "<p>5 rows × 32 columns</p>\n",
       "</div>"
      ],
      "text/plain": [
       "   id  case_id  party_number party_type  at_fault party_sex  party_age  \\\n",
       "0   1  0081715             1     driver         1    female       35.0   \n",
       "1   2  0081715             2     driver         0    female       43.0   \n",
       "2   3  0726202             1     driver         1      None        NaN   \n",
       "3   4  3858022             1     driver         1      male       47.0   \n",
       "4   5  3858022             2     driver         0      male       58.0   \n",
       "\n",
       "          party_sobriety party_drug_physical direction_of_travel  ...  \\\n",
       "0         not applicable      not applicable               north  ...   \n",
       "1         not applicable      not applicable               north  ...   \n",
       "2     impairment unknown                   G               north  ...   \n",
       "3     impairment unknown                   G                east  ...   \n",
       "4  had not been drinking                None                east  ...   \n",
       "\n",
       "  other_associate_factor_2 party_number_killed party_number_injured  \\\n",
       "0                     None                   0                    0   \n",
       "1                     None                   0                    0   \n",
       "2                     None                   0                    0   \n",
       "3                     None                   0                    0   \n",
       "4                     None                   0                    0   \n",
       "\n",
       "  movement_preceding_collision  vehicle_year vehicle_make  \\\n",
       "0          proceeding straight          2007         ford   \n",
       "1          proceeding straight          2019         None   \n",
       "2          proceeding straight          2005         None   \n",
       "3                         None          2007        dodge   \n",
       "4                         None          2006       nissan   \n",
       "\n",
       "  statewide_vehicle_type chp_vehicle_type_towing chp_vehicle_type_towed  \\\n",
       "0                   None                    None                   None   \n",
       "1                   None                    None                   None   \n",
       "2          passenger car  passenger car, station                   None   \n",
       "3      emergency vehicle              police car                     00   \n",
       "4                   None                    None                     00   \n",
       "\n",
       "  party_race  \n",
       "0      other  \n",
       "1   hispanic  \n",
       "2       None  \n",
       "3      black  \n",
       "4   hispanic  \n",
       "\n",
       "[5 rows x 32 columns]"
      ]
     },
     "execution_count": 10,
     "metadata": {},
     "output_type": "execute_result"
    }
   ],
   "source": [
    "df_parties=pd.read_sql_query(\n",
    "    \"\"\"select * from parties\n",
    "    LIMIT 10 \"\"\", conn)\n",
    "\n",
    "\n",
    "df_parties.head()"
   ]
  },
  {
   "cell_type": "code",
   "execution_count": null,
   "metadata": {},
   "outputs": [
    {
     "data": {
      "text/html": [
       "<div>\n",
       "<style scoped>\n",
       "    .dataframe tbody tr th:only-of-type {\n",
       "        vertical-align: middle;\n",
       "    }\n",
       "\n",
       "    .dataframe tbody tr th {\n",
       "        vertical-align: top;\n",
       "    }\n",
       "\n",
       "    .dataframe thead th {\n",
       "        text-align: right;\n",
       "    }\n",
       "</style>\n",
       "<table border=\"1\" class=\"dataframe\">\n",
       "  <thead>\n",
       "    <tr style=\"text-align: right;\">\n",
       "      <th></th>\n",
       "      <th>lowest date</th>\n",
       "      <th>highest date</th>\n",
       "    </tr>\n",
       "  </thead>\n",
       "  <tbody>\n",
       "    <tr>\n",
       "      <th>0</th>\n",
       "      <td>2001</td>\n",
       "      <td>2021</td>\n",
       "    </tr>\n",
       "  </tbody>\n",
       "</table>\n",
       "</div>"
      ],
      "text/plain": [
       "   lowest date  highest date\n",
       "0         2001          2021"
      ]
     },
     "execution_count": 13,
     "metadata": {},
     "output_type": "execute_result"
    }
   ],
   "source": [
    "#time duration coverd by database\n",
    "\n",
    "\n",
    "\n",
    "df_time = pd.read_sql_query(\n",
    "    \"\"\"\n",
    "SELECT MIN(cast(collision_date as DATE)) as 'lowest date',\n",
    "       MAX(cast(collision_date as DATE)) as 'highest date'\n",
    "FROM collisions;\n",
    "\n",
    "    \"\"\", conn)\n",
    "\n",
    "\n",
    "#clean missing data \n",
    "df_time = df_time.dropna() \n",
    "#clean duplicate data \n",
    "df_time = df_time.drop_duplicates()\n",
    "\n",
    "df_time\n"
   ]
  },
  {
   "cell_type": "code",
   "execution_count": null,
   "metadata": {},
   "outputs": [
    {
     "data": {
      "text/html": [
       "<div>\n",
       "<style scoped>\n",
       "    .dataframe tbody tr th:only-of-type {\n",
       "        vertical-align: middle;\n",
       "    }\n",
       "\n",
       "    .dataframe tbody tr th {\n",
       "        vertical-align: top;\n",
       "    }\n",
       "\n",
       "    .dataframe thead th {\n",
       "        text-align: right;\n",
       "    }\n",
       "</style>\n",
       "<table border=\"1\" class=\"dataframe\">\n",
       "  <thead>\n",
       "    <tr style=\"text-align: right;\">\n",
       "      <th></th>\n",
       "      <th>Number_of_road_incidents</th>\n",
       "    </tr>\n",
       "  </thead>\n",
       "  <tbody>\n",
       "    <tr>\n",
       "      <th>0</th>\n",
       "      <td>9424334</td>\n",
       "    </tr>\n",
       "  </tbody>\n",
       "</table>\n",
       "</div>"
      ],
      "text/plain": [
       "   Number_of_road_incidents\n",
       "0                   9424334"
      ]
     },
     "execution_count": 14,
     "metadata": {},
     "output_type": "execute_result"
    }
   ],
   "source": [
    "# How many accidents were recorded?\n",
    "df_total = pd.read_sql_query(\n",
    "    \"\"\"\n",
    "    SELECT COUNT(case_id) AS Number_of_road_incidents\n",
    "    FROM collisions;\n",
    "    \"\"\", conn)\n",
    "\n",
    "#clean missing data \n",
    "df_total = df_total.dropna() \n",
    "#clean duplicate data \n",
    "df_total = df_total.drop_duplicates()\n",
    "\n",
    "df_total"
   ]
  },
  {
   "cell_type": "code",
   "execution_count": null,
   "metadata": {},
   "outputs": [
    {
     "data": {
      "text/html": [
       "<div>\n",
       "<style scoped>\n",
       "    .dataframe tbody tr th:only-of-type {\n",
       "        vertical-align: middle;\n",
       "    }\n",
       "\n",
       "    .dataframe tbody tr th {\n",
       "        vertical-align: top;\n",
       "    }\n",
       "\n",
       "    .dataframe thead th {\n",
       "        text-align: right;\n",
       "    }\n",
       "</style>\n",
       "<table border=\"1\" class=\"dataframe\">\n",
       "  <thead>\n",
       "    <tr style=\"text-align: right;\">\n",
       "      <th></th>\n",
       "      <th>party_sex</th>\n",
       "      <th>collision_sex</th>\n",
       "      <th>percentage</th>\n",
       "    </tr>\n",
       "  </thead>\n",
       "  <tbody>\n",
       "    <tr>\n",
       "      <th>1</th>\n",
       "      <td>X</td>\n",
       "      <td>4028</td>\n",
       "      <td>0.024910</td>\n",
       "    </tr>\n",
       "    <tr>\n",
       "      <th>2</th>\n",
       "      <td>female</td>\n",
       "      <td>6258217</td>\n",
       "      <td>38.702346</td>\n",
       "    </tr>\n",
       "    <tr>\n",
       "      <th>3</th>\n",
       "      <td>male</td>\n",
       "      <td>9907878</td>\n",
       "      <td>61.272744</td>\n",
       "    </tr>\n",
       "  </tbody>\n",
       "</table>\n",
       "</div>"
      ],
      "text/plain": [
       "  party_sex  collision_sex  percentage\n",
       "1         X           4028    0.024910\n",
       "2    female        6258217   38.702346\n",
       "3      male        9907878   61.272744"
      ]
     },
     "execution_count": 15,
     "metadata": {},
     "output_type": "execute_result"
    }
   ],
   "source": [
    "#collision for sex\n",
    "\n",
    "df_parties_sex=pd.read_sql_query(\n",
    "    \"\"\"select party_sex, count(party_sex) as collision_sex\n",
    "    from parties\n",
    "    GROUP BY party_sex\n",
    "     \"\"\", conn)\n",
    "\n",
    "#clean missing data \n",
    "df_parties_sex = df_parties_sex.dropna() \n",
    "#clean duplicate data \n",
    "df_parties_sex = df_parties_sex.drop_duplicates()\n",
    "\n",
    "df_parties_sex['percentage'] = (df_parties_sex['collision_sex'] / df_parties_sex['collision_sex'].sum()) * 100\n",
    "\n",
    "df_parties_sex\n"
   ]
  },
  {
   "cell_type": "code",
   "execution_count": null,
   "metadata": {},
   "outputs": [
    {
     "data": {
      "image/png": "[encoded data removed]",
      "text/plain": [
       "<Figure size 800x800 with 1 Axes>"
      ]
     },
     "metadata": {},
     "output_type": "display_data"
    }
   ],
   "source": [
    "import matplotlib.pyplot as plt\n",
    "\n",
    "\n",
    "plt.figure(figsize=(8,8))\n",
    "plt.pie(df_parties_sex['percentage'], labels=df_parties_sex['party_sex'], autopct='%1.1f%%', startangle=140, colors= [ (1, 0.6, 0.6, 1),(0.6, 0.8, 1, 1)])\n",
    "plt.title('Collision percentage by Sex')\n",
    "plt.show()\n",
    "\n"
   ]
  },
  {
   "cell_type": "code",
   "execution_count": null,
   "metadata": {},
   "outputs": [
    {
     "data": {
      "text/html": [
       "<div>\n",
       "<style scoped>\n",
       "    .dataframe tbody tr th:only-of-type {\n",
       "        vertical-align: middle;\n",
       "    }\n",
       "\n",
       "    .dataframe tbody tr th {\n",
       "        vertical-align: top;\n",
       "    }\n",
       "\n",
       "    .dataframe thead th {\n",
       "        text-align: right;\n",
       "    }\n",
       "</style>\n",
       "<table border=\"1\" class=\"dataframe\">\n",
       "  <thead>\n",
       "    <tr style=\"text-align: right;\">\n",
       "      <th></th>\n",
       "      <th>party_age</th>\n",
       "      <th>count_age</th>\n",
       "    </tr>\n",
       "  </thead>\n",
       "  <tbody>\n",
       "    <tr>\n",
       "      <th>1</th>\n",
       "      <td>0.0</td>\n",
       "      <td>1505</td>\n",
       "    </tr>\n",
       "    <tr>\n",
       "      <th>2</th>\n",
       "      <td>1.0</td>\n",
       "      <td>198</td>\n",
       "    </tr>\n",
       "    <tr>\n",
       "      <th>3</th>\n",
       "      <td>2.0</td>\n",
       "      <td>145</td>\n",
       "    </tr>\n",
       "    <tr>\n",
       "      <th>4</th>\n",
       "      <td>3.0</td>\n",
       "      <td>196</td>\n",
       "    </tr>\n",
       "    <tr>\n",
       "      <th>5</th>\n",
       "      <td>4.0</td>\n",
       "      <td>220</td>\n",
       "    </tr>\n",
       "    <tr>\n",
       "      <th>...</th>\n",
       "      <td>...</td>\n",
       "      <td>...</td>\n",
       "    </tr>\n",
       "    <tr>\n",
       "      <th>122</th>\n",
       "      <td>121.0</td>\n",
       "      <td>11</td>\n",
       "    </tr>\n",
       "    <tr>\n",
       "      <th>123</th>\n",
       "      <td>122.0</td>\n",
       "      <td>6</td>\n",
       "    </tr>\n",
       "    <tr>\n",
       "      <th>124</th>\n",
       "      <td>123.0</td>\n",
       "      <td>3</td>\n",
       "    </tr>\n",
       "    <tr>\n",
       "      <th>125</th>\n",
       "      <td>124.0</td>\n",
       "      <td>3</td>\n",
       "    </tr>\n",
       "    <tr>\n",
       "      <th>126</th>\n",
       "      <td>125.0</td>\n",
       "      <td>1</td>\n",
       "    </tr>\n",
       "  </tbody>\n",
       "</table>\n",
       "<p>126 rows × 2 columns</p>\n",
       "</div>"
      ],
      "text/plain": [
       "     party_age  count_age\n",
       "1          0.0       1505\n",
       "2          1.0        198\n",
       "3          2.0        145\n",
       "4          3.0        196\n",
       "5          4.0        220\n",
       "..         ...        ...\n",
       "122      121.0         11\n",
       "123      122.0          6\n",
       "124      123.0          3\n",
       "125      124.0          3\n",
       "126      125.0          1\n",
       "\n",
       "[126 rows x 2 columns]"
      ]
     },
     "execution_count": 16,
     "metadata": {},
     "output_type": "execute_result"
    }
   ],
   "source": [
    "#party age \n",
    "df_parties_age=pd.read_sql_query(\n",
    "    \"\"\"select party_age, count(party_age) as count_age\n",
    "    from parties\n",
    "    WHERE party_type='driver'\n",
    "    GROUP BY party_age \n",
    "     \"\"\", conn)\n",
    "\n",
    "#clean missing data \n",
    "df_parties_age = df_parties_age.dropna() \n",
    "#clean duplicate data \n",
    "df_parties_age = df_parties_age.drop_duplicates()\n",
    "\n",
    "df_parties_age"
   ]
  },
  {
   "cell_type": "code",
   "execution_count": null,
   "metadata": {},
   "outputs": [
    {
     "ename": "AttributeError",
     "evalue": "module 'matplotlib' has no attribute 'figure'",
     "output_type": "error",
     "traceback": [
      "\u001b[0;31m---------------------------------------------------------------------------\u001b[0m",
      "\u001b[0;31mAttributeError\u001b[0m                            Traceback (most recent call last)",
      "Cell \u001b[0;32mIn[10], line 2\u001b[0m\n\u001b[1;32m      1\u001b[0m \u001b[38;5;66;03m# Create a line chart\u001b[39;00m\n\u001b[0;32m----> 2\u001b[0m \u001b[43mplt\u001b[49m\u001b[38;5;241;43m.\u001b[39;49m\u001b[43mfigure\u001b[49m(figsize\u001b[38;5;241m=\u001b[39m(\u001b[38;5;241m15\u001b[39m, \u001b[38;5;241m6\u001b[39m))\n\u001b[1;32m      3\u001b[0m plt\u001b[38;5;241m.\u001b[39mplot(df_parties_age[\u001b[38;5;124m'\u001b[39m\u001b[38;5;124mparty_age\u001b[39m\u001b[38;5;124m'\u001b[39m], df_parties_age[\u001b[38;5;124m'\u001b[39m\u001b[38;5;124mcount_age\u001b[39m\u001b[38;5;124m'\u001b[39m], marker\u001b[38;5;241m=\u001b[39m\u001b[38;5;124m'\u001b[39m\u001b[38;5;124mo\u001b[39m\u001b[38;5;124m'\u001b[39m, linestyle\u001b[38;5;241m=\u001b[39m\u001b[38;5;124m'\u001b[39m\u001b[38;5;124m-\u001b[39m\u001b[38;5;124m'\u001b[39m)\n\u001b[1;32m      4\u001b[0m plt\u001b[38;5;241m.\u001b[39mxlabel(\u001b[38;5;124m'\u001b[39m\u001b[38;5;124mAge\u001b[39m\u001b[38;5;124m'\u001b[39m)\n",
      "File \u001b[0;32m/Library/Frameworks/Python.framework/Versions/3.11/lib/python3.11/site-packages/matplotlib/_api/__init__.py:217\u001b[0m, in \u001b[0;36mcaching_module_getattr.<locals>.__getattr__\u001b[0;34m(name)\u001b[0m\n\u001b[1;32m    215\u001b[0m \u001b[38;5;28;01mif\u001b[39;00m name \u001b[38;5;129;01min\u001b[39;00m props:\n\u001b[1;32m    216\u001b[0m     \u001b[38;5;28;01mreturn\u001b[39;00m props[name]\u001b[38;5;241m.\u001b[39m\u001b[38;5;21m__get__\u001b[39m(instance)\n\u001b[0;32m--> 217\u001b[0m \u001b[38;5;28;01mraise\u001b[39;00m \u001b[38;5;167;01mAttributeError\u001b[39;00m(\n\u001b[1;32m    218\u001b[0m     \u001b[38;5;124mf\u001b[39m\u001b[38;5;124m\"\u001b[39m\u001b[38;5;124mmodule \u001b[39m\u001b[38;5;132;01m{\u001b[39;00m\u001b[38;5;28mcls\u001b[39m\u001b[38;5;241m.\u001b[39m\u001b[38;5;18m__module__\u001b[39m\u001b[38;5;132;01m!r}\u001b[39;00m\u001b[38;5;124m has no attribute \u001b[39m\u001b[38;5;132;01m{\u001b[39;00mname\u001b[38;5;132;01m!r}\u001b[39;00m\u001b[38;5;124m\"\u001b[39m)\n",
      "\u001b[0;31mAttributeError\u001b[0m: module 'matplotlib' has no attribute 'figure'"
     ]
    }
   ],
   "source": [
    "# Create a line chart\n",
    "plt.figure(figsize=(15, 6))\n",
    "plt.plot(df_parties_age['party_age'], df_parties_age['count_age'], marker='o', linestyle='-')\n",
    "plt.xlabel('Age')\n",
    "plt.ylabel('Collision Count')\n",
    "plt.title(' Collision driver count by Age')\n",
    "plt.grid(True)\n",
    "plt.show()"
   ]
  },
  {
   "cell_type": "code",
   "execution_count": null,
   "metadata": {},
   "outputs": [
    {
     "ename": "OSError",
     "evalue": "no library called \"cairo-2\" was found\nno library called \"cairo\" was found\nno library called \"libcairo-2\" was found\ncannot load library 'libcairo.so.2': dlopen(libcairo.so.2, 0x0002): tried: 'libcairo.so.2' (no such file), '/System/Volumes/Preboot/Cryptexes/OSlibcairo.so.2' (no such file), '/usr/lib/libcairo.so.2' (no such file, not in dyld cache), 'libcairo.so.2' (no such file), '/usr/lib/libcairo.so.2' (no such file, not in dyld cache).  Additionally, ctypes.util.find_library() did not manage to locate a library called 'libcairo.so.2'\ncannot load library 'libcairo.2.dylib': dlopen(libcairo.2.dylib, 0x0002): tried: 'libcairo.2.dylib' (no such file), '/System/Volumes/Preboot/Cryptexes/OSlibcairo.2.dylib' (no such file), '/usr/lib/libcairo.2.dylib' (no such file, not in dyld cache), 'libcairo.2.dylib' (no such file), '/usr/lib/libcairo.2.dylib' (no such file, not in dyld cache).  Additionally, ctypes.util.find_library() did not manage to locate a library called 'libcairo.2.dylib'\ncannot load library 'libcairo-2.dll': dlopen(libcairo-2.dll, 0x0002): tried: 'libcairo-2.dll' (no such file), '/System/Volumes/Preboot/Cryptexes/OSlibcairo-2.dll' (no such file), '/usr/lib/libcairo-2.dll' (no such file, not in dyld cache), 'libcairo-2.dll' (no such file), '/usr/lib/libcairo-2.dll' (no such file, not in dyld cache).  Additionally, ctypes.util.find_library() did not manage to locate a library called 'libcairo-2.dll'",
     "output_type": "error",
     "traceback": [
      "\u001b[0;31m---------------------------------------------------------------------------\u001b[0m",
      "\u001b[0;31mOSError\u001b[0m                                   Traceback (most recent call last)",
      "File \u001b[0;32m/Library/Frameworks/Python.framework/Versions/3.11/lib/python3.11/site-packages/IPython/core/formatters.py:344\u001b[0m, in \u001b[0;36mBaseFormatter.__call__\u001b[0;34m(self, obj)\u001b[0m\n\u001b[1;32m    342\u001b[0m     method \u001b[38;5;241m=\u001b[39m get_real_method(obj, \u001b[38;5;28mself\u001b[39m\u001b[38;5;241m.\u001b[39mprint_method)\n\u001b[1;32m    343\u001b[0m     \u001b[38;5;28;01mif\u001b[39;00m method \u001b[38;5;129;01mis\u001b[39;00m \u001b[38;5;129;01mnot\u001b[39;00m \u001b[38;5;28;01mNone\u001b[39;00m:\n\u001b[0;32m--> 344\u001b[0m         \u001b[38;5;28;01mreturn\u001b[39;00m \u001b[43mmethod\u001b[49m\u001b[43m(\u001b[49m\u001b[43m)\u001b[49m\n\u001b[1;32m    345\u001b[0m     \u001b[38;5;28;01mreturn\u001b[39;00m \u001b[38;5;28;01mNone\u001b[39;00m\n\u001b[1;32m    346\u001b[0m \u001b[38;5;28;01melse\u001b[39;00m:\n",
      "File \u001b[0;32m/Library/Frameworks/Python.framework/Versions/3.11/lib/python3.11/site-packages/pygal/graph/base.py:235\u001b[0m, in \u001b[0;36mBaseGraph._repr_png_\u001b[0;34m(self)\u001b[0m\n\u001b[1;32m    233\u001b[0m \u001b[38;5;28;01mdef\u001b[39;00m \u001b[38;5;21m_repr_png_\u001b[39m(\u001b[38;5;28mself\u001b[39m):\n\u001b[1;32m    234\u001b[0m \u001b[38;5;250m    \u001b[39m\u001b[38;5;124;03m\"\"\"Display png in IPython notebook\"\"\"\u001b[39;00m\n\u001b[0;32m--> 235\u001b[0m     \u001b[38;5;28;01mreturn\u001b[39;00m \u001b[38;5;28;43mself\u001b[39;49m\u001b[38;5;241;43m.\u001b[39;49m\u001b[43mrender_to_png\u001b[49m\u001b[43m(\u001b[49m\u001b[43m)\u001b[49m\n",
      "File \u001b[0;32m/Library/Frameworks/Python.framework/Versions/3.11/lib/python3.11/site-packages/pygal/graph/public.py:118\u001b[0m, in \u001b[0;36mPublicApi.render_to_png\u001b[0;34m(self, filename, dpi, **kwargs)\u001b[0m\n\u001b[1;32m    116\u001b[0m \u001b[38;5;28;01mdef\u001b[39;00m \u001b[38;5;21mrender_to_png\u001b[39m(\u001b[38;5;28mself\u001b[39m, filename\u001b[38;5;241m=\u001b[39m\u001b[38;5;28;01mNone\u001b[39;00m, dpi\u001b[38;5;241m=\u001b[39m\u001b[38;5;241m72\u001b[39m, \u001b[38;5;241m*\u001b[39m\u001b[38;5;241m*\u001b[39mkwargs):\n\u001b[1;32m    117\u001b[0m \u001b[38;5;250m    \u001b[39m\u001b[38;5;124;03m\"\"\"Render the graph, convert it to png and write it to filename\"\"\"\u001b[39;00m\n\u001b[0;32m--> 118\u001b[0m     \u001b[38;5;28;01mimport\u001b[39;00m \u001b[38;5;21;01mcairosvg\u001b[39;00m\n\u001b[1;32m    119\u001b[0m     \u001b[38;5;28;01mreturn\u001b[39;00m cairosvg\u001b[38;5;241m.\u001b[39msvg2png(\n\u001b[1;32m    120\u001b[0m         bytestring\u001b[38;5;241m=\u001b[39m\u001b[38;5;28mself\u001b[39m\u001b[38;5;241m.\u001b[39mrender(\u001b[38;5;241m*\u001b[39m\u001b[38;5;241m*\u001b[39mkwargs), write_to\u001b[38;5;241m=\u001b[39mfilename, dpi\u001b[38;5;241m=\u001b[39mdpi\n\u001b[1;32m    121\u001b[0m     )\n",
      "File \u001b[0;32m/Library/Frameworks/Python.framework/Versions/3.11/lib/python3.11/site-packages/cairosvg/__init__.py:26\u001b[0m\n\u001b[1;32m     22\u001b[0m VERSION \u001b[38;5;241m=\u001b[39m __version__ \u001b[38;5;241m=\u001b[39m (ROOT \u001b[38;5;241m/\u001b[39m \u001b[38;5;124m'\u001b[39m\u001b[38;5;124mVERSION\u001b[39m\u001b[38;5;124m'\u001b[39m)\u001b[38;5;241m.\u001b[39mread_text()\u001b[38;5;241m.\u001b[39mstrip()\n\u001b[1;32m     25\u001b[0m \u001b[38;5;66;03m# VERSION is used in the \"url\" module imported by \"surface\"\u001b[39;00m\n\u001b[0;32m---> 26\u001b[0m \u001b[38;5;28;01mfrom\u001b[39;00m \u001b[38;5;21;01m.\u001b[39;00m \u001b[38;5;28;01mimport\u001b[39;00m surface  \u001b[38;5;66;03m# noqa isort:skip\u001b[39;00m\n\u001b[1;32m     29\u001b[0m SURFACES \u001b[38;5;241m=\u001b[39m {\n\u001b[1;32m     30\u001b[0m     \u001b[38;5;124m'\u001b[39m\u001b[38;5;124mPDF\u001b[39m\u001b[38;5;124m'\u001b[39m: surface\u001b[38;5;241m.\u001b[39mPDFSurface,\n\u001b[1;32m     31\u001b[0m     \u001b[38;5;124m'\u001b[39m\u001b[38;5;124mPNG\u001b[39m\u001b[38;5;124m'\u001b[39m: surface\u001b[38;5;241m.\u001b[39mPNGSurface,\n\u001b[0;32m   (...)\u001b[0m\n\u001b[1;32m     34\u001b[0m     \u001b[38;5;124m'\u001b[39m\u001b[38;5;124mSVG\u001b[39m\u001b[38;5;124m'\u001b[39m: surface\u001b[38;5;241m.\u001b[39mSVGSurface,\n\u001b[1;32m     35\u001b[0m }\n\u001b[1;32m     38\u001b[0m \u001b[38;5;28;01mdef\u001b[39;00m \u001b[38;5;21msvg2svg\u001b[39m(bytestring\u001b[38;5;241m=\u001b[39m\u001b[38;5;28;01mNone\u001b[39;00m, \u001b[38;5;241m*\u001b[39m, file_obj\u001b[38;5;241m=\u001b[39m\u001b[38;5;28;01mNone\u001b[39;00m, url\u001b[38;5;241m=\u001b[39m\u001b[38;5;28;01mNone\u001b[39;00m, dpi\u001b[38;5;241m=\u001b[39m\u001b[38;5;241m96\u001b[39m,\n\u001b[1;32m     39\u001b[0m             parent_width\u001b[38;5;241m=\u001b[39m\u001b[38;5;28;01mNone\u001b[39;00m, parent_height\u001b[38;5;241m=\u001b[39m\u001b[38;5;28;01mNone\u001b[39;00m, scale\u001b[38;5;241m=\u001b[39m\u001b[38;5;241m1\u001b[39m, unsafe\u001b[38;5;241m=\u001b[39m\u001b[38;5;28;01mFalse\u001b[39;00m,\n\u001b[1;32m     40\u001b[0m             background_color\u001b[38;5;241m=\u001b[39m\u001b[38;5;28;01mNone\u001b[39;00m, negate_colors\u001b[38;5;241m=\u001b[39m\u001b[38;5;28;01mFalse\u001b[39;00m, invert_images\u001b[38;5;241m=\u001b[39m\u001b[38;5;28;01mFalse\u001b[39;00m,\n\u001b[1;32m     41\u001b[0m             write_to\u001b[38;5;241m=\u001b[39m\u001b[38;5;28;01mNone\u001b[39;00m, output_width\u001b[38;5;241m=\u001b[39m\u001b[38;5;28;01mNone\u001b[39;00m, output_height\u001b[38;5;241m=\u001b[39m\u001b[38;5;28;01mNone\u001b[39;00m):\n",
      "File \u001b[0;32m/Library/Frameworks/Python.framework/Versions/3.11/lib/python3.11/site-packages/cairosvg/surface.py:9\u001b[0m\n\u001b[1;32m      6\u001b[0m \u001b[38;5;28;01mimport\u001b[39;00m \u001b[38;5;21;01mcopy\u001b[39;00m\n\u001b[1;32m      7\u001b[0m \u001b[38;5;28;01mimport\u001b[39;00m \u001b[38;5;21;01mio\u001b[39;00m\n\u001b[0;32m----> 9\u001b[0m \u001b[38;5;28;01mimport\u001b[39;00m \u001b[38;5;21;01mcairocffi\u001b[39;00m \u001b[38;5;28;01mas\u001b[39;00m \u001b[38;5;21;01mcairo\u001b[39;00m\n\u001b[1;32m     11\u001b[0m \u001b[38;5;28;01mfrom\u001b[39;00m \u001b[38;5;21;01m.\u001b[39;00m\u001b[38;5;21;01mcolors\u001b[39;00m \u001b[38;5;28;01mimport\u001b[39;00m color, negate_color\n\u001b[1;32m     12\u001b[0m \u001b[38;5;28;01mfrom\u001b[39;00m \u001b[38;5;21;01m.\u001b[39;00m\u001b[38;5;21;01mdefs\u001b[39;00m \u001b[38;5;28;01mimport\u001b[39;00m (\n\u001b[1;32m     13\u001b[0m     apply_filter_after_painting, apply_filter_before_painting, clip_path,\n\u001b[1;32m     14\u001b[0m     filter_, gradient_or_pattern, linear_gradient, marker, mask, paint_mask,\n\u001b[1;32m     15\u001b[0m     parse_all_defs, pattern, prepare_filter, radial_gradient, use)\n",
      "File \u001b[0;32m/Library/Frameworks/Python.framework/Versions/3.11/lib/python3.11/site-packages/cairocffi/__init__.py:47\u001b[0m\n\u001b[1;32m     42\u001b[0m     error_message \u001b[38;5;241m=\u001b[39m \u001b[38;5;124m'\u001b[39m\u001b[38;5;130;01m\\n\u001b[39;00m\u001b[38;5;124m'\u001b[39m\u001b[38;5;241m.\u001b[39mjoin(  \u001b[38;5;66;03m# pragma: no cover\u001b[39;00m\n\u001b[1;32m     43\u001b[0m         \u001b[38;5;28mstr\u001b[39m(exception) \u001b[38;5;28;01mfor\u001b[39;00m exception \u001b[38;5;129;01min\u001b[39;00m exceptions)\n\u001b[1;32m     44\u001b[0m     \u001b[38;5;28;01mraise\u001b[39;00m \u001b[38;5;167;01mOSError\u001b[39;00m(error_message)  \u001b[38;5;66;03m# pragma: no cover\u001b[39;00m\n\u001b[0;32m---> 47\u001b[0m cairo \u001b[38;5;241m=\u001b[39m \u001b[43mdlopen\u001b[49m\u001b[43m(\u001b[49m\n\u001b[1;32m     48\u001b[0m \u001b[43m    \u001b[49m\u001b[43mffi\u001b[49m\u001b[43m,\u001b[49m\u001b[43m \u001b[49m\u001b[43m(\u001b[49m\u001b[38;5;124;43m'\u001b[39;49m\u001b[38;5;124;43mcairo-2\u001b[39;49m\u001b[38;5;124;43m'\u001b[39;49m\u001b[43m,\u001b[49m\u001b[43m \u001b[49m\u001b[38;5;124;43m'\u001b[39;49m\u001b[38;5;124;43mcairo\u001b[39;49m\u001b[38;5;124;43m'\u001b[39;49m\u001b[43m,\u001b[49m\u001b[43m \u001b[49m\u001b[38;5;124;43m'\u001b[39;49m\u001b[38;5;124;43mlibcairo-2\u001b[39;49m\u001b[38;5;124;43m'\u001b[39;49m\u001b[43m)\u001b[49m\u001b[43m,\u001b[49m\n\u001b[1;32m     49\u001b[0m \u001b[43m    \u001b[49m\u001b[43m(\u001b[49m\u001b[38;5;124;43m'\u001b[39;49m\u001b[38;5;124;43mlibcairo.so.2\u001b[39;49m\u001b[38;5;124;43m'\u001b[39;49m\u001b[43m,\u001b[49m\u001b[43m \u001b[49m\u001b[38;5;124;43m'\u001b[39;49m\u001b[38;5;124;43mlibcairo.2.dylib\u001b[39;49m\u001b[38;5;124;43m'\u001b[39;49m\u001b[43m,\u001b[49m\u001b[43m \u001b[49m\u001b[38;5;124;43m'\u001b[39;49m\u001b[38;5;124;43mlibcairo-2.dll\u001b[39;49m\u001b[38;5;124;43m'\u001b[39;49m\u001b[43m)\u001b[49m\u001b[43m)\u001b[49m\n\u001b[1;32m     52\u001b[0m \u001b[38;5;28;01mclass\u001b[39;00m \u001b[38;5;21;01m_keepref\u001b[39;00m(\u001b[38;5;28mobject\u001b[39m):\n\u001b[1;32m     53\u001b[0m \u001b[38;5;250m    \u001b[39m\u001b[38;5;124;03m\"\"\"Function wrapper that keeps a reference to another object.\"\"\"\u001b[39;00m\n",
      "File \u001b[0;32m/Library/Frameworks/Python.framework/Versions/3.11/lib/python3.11/site-packages/cairocffi/__init__.py:44\u001b[0m, in \u001b[0;36mdlopen\u001b[0;34m(ffi, library_names, filenames)\u001b[0m\n\u001b[1;32m     40\u001b[0m         exceptions\u001b[38;5;241m.\u001b[39mappend(exception)\n\u001b[1;32m     42\u001b[0m error_message \u001b[38;5;241m=\u001b[39m \u001b[38;5;124m'\u001b[39m\u001b[38;5;130;01m\\n\u001b[39;00m\u001b[38;5;124m'\u001b[39m\u001b[38;5;241m.\u001b[39mjoin(  \u001b[38;5;66;03m# pragma: no cover\u001b[39;00m\n\u001b[1;32m     43\u001b[0m     \u001b[38;5;28mstr\u001b[39m(exception) \u001b[38;5;28;01mfor\u001b[39;00m exception \u001b[38;5;129;01min\u001b[39;00m exceptions)\n\u001b[0;32m---> 44\u001b[0m \u001b[38;5;28;01mraise\u001b[39;00m \u001b[38;5;167;01mOSError\u001b[39;00m(error_message)\n",
      "\u001b[0;31mOSError\u001b[0m: no library called \"cairo-2\" was found\nno library called \"cairo\" was found\nno library called \"libcairo-2\" was found\ncannot load library 'libcairo.so.2': dlopen(libcairo.so.2, 0x0002): tried: 'libcairo.so.2' (no such file), '/System/Volumes/Preboot/Cryptexes/OSlibcairo.so.2' (no such file), '/usr/lib/libcairo.so.2' (no such file, not in dyld cache), 'libcairo.so.2' (no such file), '/usr/lib/libcairo.so.2' (no such file, not in dyld cache).  Additionally, ctypes.util.find_library() did not manage to locate a library called 'libcairo.so.2'\ncannot load library 'libcairo.2.dylib': dlopen(libcairo.2.dylib, 0x0002): tried: 'libcairo.2.dylib' (no such file), '/System/Volumes/Preboot/Cryptexes/OSlibcairo.2.dylib' (no such file), '/usr/lib/libcairo.2.dylib' (no such file, not in dyld cache), 'libcairo.2.dylib' (no such file), '/usr/lib/libcairo.2.dylib' (no such file, not in dyld cache).  Additionally, ctypes.util.find_library() did not manage to locate a library called 'libcairo.2.dylib'\ncannot load library 'libcairo-2.dll': dlopen(libcairo-2.dll, 0x0002): tried: 'libcairo-2.dll' (no such file), '/System/Volumes/Preboot/Cryptexes/OSlibcairo-2.dll' (no such file), '/usr/lib/libcairo-2.dll' (no such file, not in dyld cache), 'libcairo-2.dll' (no such file), '/usr/lib/libcairo-2.dll' (no such file, not in dyld cache).  Additionally, ctypes.util.find_library() did not manage to locate a library called 'libcairo-2.dll'"
     ]
    },
    {
     "data": {
      "image/svg+xml": [
       "<svg xmlns=\"http://www.w3.org/2000/svg\" xmlns:xlink=\"http://www.w3.org/1999/xlink\" id=\"chart-4a537b5e-fe2e-470c-8281-3b5e4657f561\" class=\"pygal-chart\" viewBox=\"0 0 800 600\"><!--Generated with pygal 3.0.4 (lxml) ©Kozea 2012-2016 on 2023-12-10--><!--http://pygal.org--><!--http://github.com/Kozea/pygal--><defs><style type=\"text/css\">#chart-4a537b5e-fe2e-470c-8281-3b5e4657f561{-webkit-user-select:none;-webkit-font-smoothing:antialiased;font-family:Consolas,\"Liberation Mono\",Menlo,Courier,monospace}#chart-4a537b5e-fe2e-470c-8281-3b5e4657f561 .title{font-family:Consolas,\"Liberation Mono\",Menlo,Courier,monospace;font-size:16px}#chart-4a537b5e-fe2e-470c-8281-3b5e4657f561 .legends .legend text{font-family:Consolas,\"Liberation Mono\",Menlo,Courier,monospace;font-size:14px}#chart-4a537b5e-fe2e-470c-8281-3b5e4657f561 .axis text{font-family:Consolas,\"Liberation Mono\",Menlo,Courier,monospace;font-size:10px}#chart-4a537b5e-fe2e-470c-8281-3b5e4657f561 .axis text.major{font-family:Consolas,\"Liberation Mono\",Menlo,Courier,monospace;font-size:10px}#chart-4a537b5e-fe2e-470c-8281-3b5e4657f561 .text-overlay text.value{font-family:Consolas,\"Liberation Mono\",Menlo,Courier,monospace;font-size:16px}#chart-4a537b5e-fe2e-470c-8281-3b5e4657f561 .text-overlay text.label{font-family:Consolas,\"Liberation Mono\",Menlo,Courier,monospace;font-size:10px}#chart-4a537b5e-fe2e-470c-8281-3b5e4657f561 .tooltip{font-family:Consolas,\"Liberation Mono\",Menlo,Courier,monospace;font-size:14px}#chart-4a537b5e-fe2e-470c-8281-3b5e4657f561 text.no_data{font-family:Consolas,\"Liberation Mono\",Menlo,Courier,monospace;font-size:64px}\n",
       "#chart-4a537b5e-fe2e-470c-8281-3b5e4657f561{background-color:rgba(249,249,249,1)}#chart-4a537b5e-fe2e-470c-8281-3b5e4657f561 path,#chart-4a537b5e-fe2e-470c-8281-3b5e4657f561 line,#chart-4a537b5e-fe2e-470c-8281-3b5e4657f561 rect,#chart-4a537b5e-fe2e-470c-8281-3b5e4657f561 circle{-webkit-transition:150ms;-moz-transition:150ms;transition:150ms}#chart-4a537b5e-fe2e-470c-8281-3b5e4657f561 .graph &gt; .background{fill:rgba(249,249,249,1)}#chart-4a537b5e-fe2e-470c-8281-3b5e4657f561 .plot &gt; .background{fill:rgba(255,255,255,1)}#chart-4a537b5e-fe2e-470c-8281-3b5e4657f561 .graph{fill:rgba(0,0,0,.87)}#chart-4a537b5e-fe2e-470c-8281-3b5e4657f561 text.no_data{fill:rgba(0,0,0,1)}#chart-4a537b5e-fe2e-470c-8281-3b5e4657f561 .title{fill:rgba(0,0,0,1)}#chart-4a537b5e-fe2e-470c-8281-3b5e4657f561 .legends .legend text{fill:rgba(0,0,0,.87)}#chart-4a537b5e-fe2e-470c-8281-3b5e4657f561 .legends .legend:hover text{fill:rgba(0,0,0,1)}#chart-4a537b5e-fe2e-470c-8281-3b5e4657f561 .axis .line{stroke:rgba(0,0,0,1)}#chart-4a537b5e-fe2e-470c-8281-3b5e4657f561 .axis .guide.line{stroke:rgba(0,0,0,.54)}#chart-4a537b5e-fe2e-470c-8281-3b5e4657f561 .axis .major.line{stroke:rgba(0,0,0,.87)}#chart-4a537b5e-fe2e-470c-8281-3b5e4657f561 .axis text.major{fill:rgba(0,0,0,1)}#chart-4a537b5e-fe2e-470c-8281-3b5e4657f561 .axis.y .guides:hover .guide.line,#chart-4a537b5e-fe2e-470c-8281-3b5e4657f561 .line-graph .axis.x .guides:hover .guide.line,#chart-4a537b5e-fe2e-470c-8281-3b5e4657f561 .stackedline-graph .axis.x .guides:hover .guide.line,#chart-4a537b5e-fe2e-470c-8281-3b5e4657f561 .xy-graph .axis.x .guides:hover .guide.line{stroke:rgba(0,0,0,1)}#chart-4a537b5e-fe2e-470c-8281-3b5e4657f561 .axis .guides:hover text{fill:rgba(0,0,0,1)}#chart-4a537b5e-fe2e-470c-8281-3b5e4657f561 .reactive{fill-opacity:.7;stroke-opacity:.8;stroke-width:1}#chart-4a537b5e-fe2e-470c-8281-3b5e4657f561 .ci{stroke:rgba(0,0,0,.87)}#chart-4a537b5e-fe2e-470c-8281-3b5e4657f561 .reactive.active,#chart-4a537b5e-fe2e-470c-8281-3b5e4657f561 .active .reactive{fill-opacity:.8;stroke-opacity:.9;stroke-width:4}#chart-4a537b5e-fe2e-470c-8281-3b5e4657f561 .ci .reactive.active{stroke-width:1.5}#chart-4a537b5e-fe2e-470c-8281-3b5e4657f561 .series text{fill:rgba(0,0,0,1)}#chart-4a537b5e-fe2e-470c-8281-3b5e4657f561 .tooltip rect{fill:rgba(255,255,255,1);stroke:rgba(0,0,0,1);-webkit-transition:opacity 150ms;-moz-transition:opacity 150ms;transition:opacity 150ms}#chart-4a537b5e-fe2e-470c-8281-3b5e4657f561 .tooltip .label{fill:rgba(0,0,0,.87)}#chart-4a537b5e-fe2e-470c-8281-3b5e4657f561 .tooltip .label{fill:rgba(0,0,0,.87)}#chart-4a537b5e-fe2e-470c-8281-3b5e4657f561 .tooltip .legend{font-size:.8em;fill:rgba(0,0,0,.54)}#chart-4a537b5e-fe2e-470c-8281-3b5e4657f561 .tooltip .x_label{font-size:.6em;fill:rgba(0,0,0,1)}#chart-4a537b5e-fe2e-470c-8281-3b5e4657f561 .tooltip .xlink{font-size:.5em;text-decoration:underline}#chart-4a537b5e-fe2e-470c-8281-3b5e4657f561 .tooltip .value{font-size:1.5em}#chart-4a537b5e-fe2e-470c-8281-3b5e4657f561 .bound{font-size:.5em}#chart-4a537b5e-fe2e-470c-8281-3b5e4657f561 .max-value{font-size:.75em;fill:rgba(0,0,0,.54)}#chart-4a537b5e-fe2e-470c-8281-3b5e4657f561 .map-element{fill:rgba(255,255,255,1);stroke:rgba(0,0,0,.54) !important}#chart-4a537b5e-fe2e-470c-8281-3b5e4657f561 .map-element .reactive{fill-opacity:inherit;stroke-opacity:inherit}#chart-4a537b5e-fe2e-470c-8281-3b5e4657f561 .color-0,#chart-4a537b5e-fe2e-470c-8281-3b5e4657f561 .color-0 a:visited{stroke:#F44336;fill:#F44336}#chart-4a537b5e-fe2e-470c-8281-3b5e4657f561 .color-1,#chart-4a537b5e-fe2e-470c-8281-3b5e4657f561 .color-1 a:visited{stroke:#3F51B5;fill:#3F51B5}#chart-4a537b5e-fe2e-470c-8281-3b5e4657f561 .text-overlay .color-0 text{fill:black}#chart-4a537b5e-fe2e-470c-8281-3b5e4657f561 .text-overlay .color-1 text{fill:black}\n",
       "#chart-4a537b5e-fe2e-470c-8281-3b5e4657f561 text.no_data{text-anchor:middle}#chart-4a537b5e-fe2e-470c-8281-3b5e4657f561 .guide.line{fill:none}#chart-4a537b5e-fe2e-470c-8281-3b5e4657f561 .centered{text-anchor:middle}#chart-4a537b5e-fe2e-470c-8281-3b5e4657f561 .title{text-anchor:middle}#chart-4a537b5e-fe2e-470c-8281-3b5e4657f561 .legends .legend text{fill-opacity:1}#chart-4a537b5e-fe2e-470c-8281-3b5e4657f561 .axis.x text{text-anchor:middle}#chart-4a537b5e-fe2e-470c-8281-3b5e4657f561 .axis.x:not(.web) text[transform]{text-anchor:start}#chart-4a537b5e-fe2e-470c-8281-3b5e4657f561 .axis.x:not(.web) text[transform].backwards{text-anchor:end}#chart-4a537b5e-fe2e-470c-8281-3b5e4657f561 .axis.y text{text-anchor:end}#chart-4a537b5e-fe2e-470c-8281-3b5e4657f561 .axis.y text[transform].backwards{text-anchor:start}#chart-4a537b5e-fe2e-470c-8281-3b5e4657f561 .axis.y2 text{text-anchor:start}#chart-4a537b5e-fe2e-470c-8281-3b5e4657f561 .axis.y2 text[transform].backwards{text-anchor:end}#chart-4a537b5e-fe2e-470c-8281-3b5e4657f561 .axis .guide.line{stroke-dasharray:4,4;stroke:black}#chart-4a537b5e-fe2e-470c-8281-3b5e4657f561 .axis .major.guide.line{stroke-dasharray:6,6;stroke:black}#chart-4a537b5e-fe2e-470c-8281-3b5e4657f561 .horizontal .axis.y .guide.line,#chart-4a537b5e-fe2e-470c-8281-3b5e4657f561 .horizontal .axis.y2 .guide.line,#chart-4a537b5e-fe2e-470c-8281-3b5e4657f561 .vertical .axis.x .guide.line{opacity:0}#chart-4a537b5e-fe2e-470c-8281-3b5e4657f561 .horizontal .axis.always_show .guide.line,#chart-4a537b5e-fe2e-470c-8281-3b5e4657f561 .vertical .axis.always_show .guide.line{opacity:1 !important}#chart-4a537b5e-fe2e-470c-8281-3b5e4657f561 .axis.y .guides:hover .guide.line,#chart-4a537b5e-fe2e-470c-8281-3b5e4657f561 .axis.y2 .guides:hover .guide.line,#chart-4a537b5e-fe2e-470c-8281-3b5e4657f561 .axis.x .guides:hover .guide.line{opacity:1}#chart-4a537b5e-fe2e-470c-8281-3b5e4657f561 .axis .guides:hover text{opacity:1}#chart-4a537b5e-fe2e-470c-8281-3b5e4657f561 .nofill{fill:none}#chart-4a537b5e-fe2e-470c-8281-3b5e4657f561 .subtle-fill{fill-opacity:.2}#chart-4a537b5e-fe2e-470c-8281-3b5e4657f561 .dot{stroke-width:1px;fill-opacity:1;stroke-opacity:1}#chart-4a537b5e-fe2e-470c-8281-3b5e4657f561 .dot.active{stroke-width:5px}#chart-4a537b5e-fe2e-470c-8281-3b5e4657f561 .dot.negative{fill:transparent}#chart-4a537b5e-fe2e-470c-8281-3b5e4657f561 text,#chart-4a537b5e-fe2e-470c-8281-3b5e4657f561 tspan{stroke:none !important}#chart-4a537b5e-fe2e-470c-8281-3b5e4657f561 .series text.active{opacity:1}#chart-4a537b5e-fe2e-470c-8281-3b5e4657f561 .tooltip rect{fill-opacity:.95;stroke-width:.5}#chart-4a537b5e-fe2e-470c-8281-3b5e4657f561 .tooltip text{fill-opacity:1}#chart-4a537b5e-fe2e-470c-8281-3b5e4657f561 .showable{visibility:hidden}#chart-4a537b5e-fe2e-470c-8281-3b5e4657f561 .showable.shown{visibility:visible}#chart-4a537b5e-fe2e-470c-8281-3b5e4657f561 .gauge-background{fill:rgba(229,229,229,1);stroke:none}#chart-4a537b5e-fe2e-470c-8281-3b5e4657f561 .bg-lines{stroke:rgba(249,249,249,1);stroke-width:2px}</style><script type=\"text/javascript\">window.pygal = window.pygal || {};window.pygal.config = window.pygal.config || {};window.pygal.config['4a537b5e-fe2e-470c-8281-3b5e4657f561'] = {\"allow_interruptions\": false, \"box_mode\": \"extremes\", \"classes\": [\"pygal-chart\"], \"css\": [\"file://style.css\", \"file://graph.css\"], \"defs\": [], \"disable_xml_declaration\": true, \"dots_size\": 2.5, \"dynamic_print_values\": false, \"explicit_size\": false, \"fill\": false, \"force_uri_protocol\": \"https\", \"formatter\": null, \"half_pie\": false, \"height\": 600, \"include_x_axis\": false, \"inner_radius\": 0, \"interpolate\": null, \"interpolation_parameters\": {}, \"interpolation_precision\": 250, \"inverse_y_axis\": false, \"js\": [\"//kozea.github.io/pygal.js/2.0.x/pygal-tooltips.min.js\"], \"legend_at_bottom\": false, \"legend_at_bottom_columns\": null, \"legend_box_size\": 12, \"logarithmic\": false, \"margin\": 20, \"margin_bottom\": null, \"margin_left\": null, \"margin_right\": null, \"margin_top\": null, \"max_scale\": 16, \"min_scale\": 4, \"missing_value_fill_truncation\": \"x\", \"no_data_text\": \"No data\", \"no_prefix\": false, \"order_min\": null, \"pretty_print\": false, \"print_labels\": false, \"print_values\": false, \"print_values_position\": \"center\", \"print_zeroes\": true, \"range\": null, \"rounded_bars\": null, \"secondary_range\": null, \"show_dots\": true, \"show_legend\": true, \"show_minor_x_labels\": true, \"show_minor_y_labels\": true, \"show_only_major_dots\": false, \"show_x_guides\": false, \"show_x_labels\": true, \"show_y_guides\": true, \"show_y_labels\": true, \"spacing\": 10, \"stack_from_top\": false, \"strict\": false, \"stroke\": true, \"stroke_style\": null, \"style\": {\"background\": \"rgba(249, 249, 249, 1)\", \"ci_colors\": [], \"colors\": [\"#F44336\", \"#3F51B5\", \"#009688\", \"#FFC107\", \"#FF5722\", \"#9C27B0\", \"#03A9F4\", \"#8BC34A\", \"#FF9800\", \"#E91E63\", \"#2196F3\", \"#4CAF50\", \"#FFEB3B\", \"#673AB7\", \"#00BCD4\", \"#CDDC39\", \"#9E9E9E\", \"#607D8B\"], \"dot_opacity\": \"1\", \"font_family\": \"Consolas, \\\"Liberation Mono\\\", Menlo, Courier, monospace\", \"foreground\": \"rgba(0, 0, 0, .87)\", \"foreground_strong\": \"rgba(0, 0, 0, 1)\", \"foreground_subtle\": \"rgba(0, 0, 0, .54)\", \"guide_stroke_color\": \"black\", \"guide_stroke_dasharray\": \"4,4\", \"label_font_family\": \"Consolas, \\\"Liberation Mono\\\", Menlo, Courier, monospace\", \"label_font_size\": 10, \"legend_font_family\": \"Consolas, \\\"Liberation Mono\\\", Menlo, Courier, monospace\", \"legend_font_size\": 14, \"major_guide_stroke_color\": \"black\", \"major_guide_stroke_dasharray\": \"6,6\", \"major_label_font_family\": \"Consolas, \\\"Liberation Mono\\\", Menlo, Courier, monospace\", \"major_label_font_size\": 10, \"no_data_font_family\": \"Consolas, \\\"Liberation Mono\\\", Menlo, Courier, monospace\", \"no_data_font_size\": 64, \"opacity\": \".7\", \"opacity_hover\": \".8\", \"plot_background\": \"rgba(255, 255, 255, 1)\", \"stroke_opacity\": \".8\", \"stroke_opacity_hover\": \".9\", \"stroke_width\": \"1\", \"stroke_width_hover\": \"4\", \"title_font_family\": \"Consolas, \\\"Liberation Mono\\\", Menlo, Courier, monospace\", \"title_font_size\": 16, \"tooltip_font_family\": \"Consolas, \\\"Liberation Mono\\\", Menlo, Courier, monospace\", \"tooltip_font_size\": 14, \"transition\": \"150ms\", \"value_background\": \"rgba(229, 229, 229, 1)\", \"value_colors\": [], \"value_font_family\": \"Consolas, \\\"Liberation Mono\\\", Menlo, Courier, monospace\", \"value_font_size\": 16, \"value_label_font_family\": \"Consolas, \\\"Liberation Mono\\\", Menlo, Courier, monospace\", \"value_label_font_size\": 10}, \"title\": \"Age Vs At Fault Distribution\", \"tooltip_border_radius\": 0, \"tooltip_fancy_mode\": true, \"truncate_label\": null, \"truncate_legend\": null, \"width\": 800, \"x_label_rotation\": 0, \"x_labels\": null, \"x_labels_major\": null, \"x_labels_major_count\": null, \"x_labels_major_every\": null, \"x_title\": null, \"xrange\": null, \"y_label_rotation\": 0, \"y_labels\": null, \"y_labels_major\": null, \"y_labels_major_count\": null, \"y_labels_major_every\": null, \"y_title\": null, \"zero\": 0, \"legends\": [\"At Fault\", \"Not At Fault\"]}</script><script type=\"text/javascript\" xlink:href=\"https://kozea.github.io/pygal.js/2.0.x/pygal-tooltips.min.js\"/></defs><title>Age Vs At Fault Distribution</title><g class=\"graph box-graph vertical\"><rect x=\"0\" y=\"0\" width=\"800\" height=\"600\" class=\"background\"/><g transform=\"translate(170, 46)\" class=\"plot\"><rect x=\"0\" y=\"0\" width=\"609.2\" height=\"534\" class=\"background\"/><g class=\"axis y always_show\"><g class=\"guides\"><path d=\"M0.000000 523.730769 h609.200000\" class=\"axis major line\"/><text x=\"-5\" y=\"527.2307692307693\" class=\"major\">0</text><title>0</title></g><g class=\"guides\"><path d=\"M0.000000 474.359467 h609.200000\" class=\"guide line\"/><text x=\"-5\" y=\"477.8594674556213\" class=\"\">10</text><title>10</title></g><g class=\"guides\"><path d=\"M0.000000 424.988166 h609.200000\" class=\"guide line\"/><text x=\"-5\" y=\"428.48816568047334\" class=\"\">20</text><title>20</title></g><g class=\"guides\"><path d=\"M0.000000 375.616864 h609.200000\" class=\"guide line\"/><text x=\"-5\" y=\"379.11686390532543\" class=\"\">30</text><title>30</title></g><g class=\"guides\"><path d=\"M0.000000 326.245562 h609.200000\" class=\"guide line\"/><text x=\"-5\" y=\"329.7455621301775\" class=\"\">40</text><title>40</title></g><g class=\"guides\"><path d=\"M0.000000 276.874260 h609.200000\" class=\"major guide line\"/><text x=\"-5\" y=\"280.3742603550296\" class=\"major\">50</text><title>50</title></g><g class=\"guides\"><path d=\"M0.000000 227.502959 h609.200000\" class=\"guide line\"/><text x=\"-5\" y=\"231.00295857988164\" class=\"\">60</text><title>60</title></g><g class=\"guides\"><path d=\"M0.000000 178.131657 h609.200000\" class=\"guide line\"/><text x=\"-5\" y=\"181.63165680473372\" class=\"\">70</text><title>70</title></g><g class=\"guides\"><path d=\"M0.000000 128.760355 h609.200000\" class=\"guide line\"/><text x=\"-5\" y=\"132.26035502958575\" class=\"\">80</text><title>80</title></g><g class=\"guides\"><path d=\"M0.000000 79.389053 h609.200000\" class=\"guide line\"/><text x=\"-5\" y=\"82.88905325443784\" class=\"\">90</text><title>90</title></g><g class=\"guides\"><path d=\"M0.000000 30.017751 h609.200000\" class=\"major guide line\"/><text x=\"-5\" y=\"33.51775147928993\" class=\"major\">100</text><title>100</title></g></g><g class=\"series serie-0 color-0\"><g class=\"boxes\"><g class=\"box\"><path stroke-width=\"3\" d=\"M93.723077 523.730769 L222.592308 523.730769\" class=\"reactive tooltip-trigger\"/><path stroke-width=\"3\" d=\"M29.288462 365.742604 L287.026923 365.742604\" class=\"reactive tooltip-trigger\"/><path stroke-width=\"3\" d=\"M93.723077 10.269231 L222.592308 10.269231\" class=\"reactive tooltip-trigger\"/><path stroke-width=\"2\" d=\"M158.157692 523.730769 L158.157692 415.113905\" class=\"reactive tooltip-trigger\"/><path stroke-width=\"2\" d=\"M158.157692 10.269231 L158.157692 286.748521\" class=\"reactive tooltip-trigger\"/><rect x=\"29.28846153846154\" y=\"286.7485207100592\" height=\"128.36538461538458\" width=\"257.73846153846154\" class=\"subtle-fill reactive tooltip-trigger\"/><desc class=\"value\">Min: 0\n",
       "Q1 : 22\n",
       "Q2 : 32\n",
       "Q3 : 48\n",
       "Max: 104</desc><desc class=\"x centered\">158.15769230769232</desc><desc class=\"y centered\">320.32100591715977</desc></g></g></g><g class=\"series serie-1 color-1\"><g class=\"boxes\"><g class=\"box\"><path stroke-width=\"3\" d=\"M386.607692 523.730769 L515.476923 523.730769\" class=\"reactive tooltip-trigger\"/><path stroke-width=\"3\" d=\"M322.173077 331.182692 L579.911538 331.182692\" class=\"reactive tooltip-trigger\"/><path stroke-width=\"3\" d=\"M386.607692 15.206361 L515.476923 15.206361\" class=\"reactive tooltip-trigger\"/><path stroke-width=\"2\" d=\"M451.042308 523.730769 L451.042308 390.428254\" class=\"reactive tooltip-trigger\"/><path stroke-width=\"2\" d=\"M451.042308 15.206361 L451.042308 271.937130\" class=\"reactive tooltip-trigger\"/><rect x=\"322.1730769230769\" y=\"271.9371301775148\" height=\"118.49112426035498\" width=\"257.73846153846154\" class=\"subtle-fill reactive tooltip-trigger\"/><desc class=\"value\">Min: 0\n",
       "Q1 : 27\n",
       "Q2 : 39\n",
       "Q3 : 51\n",
       "Max: 103</desc><desc class=\"x centered\">451.04230769230765</desc><desc class=\"y centered\">306.49704142011836</desc></g></g></g></g><g class=\"titles\"><text x=\"400.0\" y=\"26\" class=\"title plot_title\">Age Vs At Fault Distribution</text></g><g transform=\"translate(170, 46)\" class=\"plot overlay\"><g class=\"series serie-0 color-0\"/><g class=\"series serie-1 color-1\"/></g><g transform=\"translate(170, 46)\" class=\"plot text-overlay\"><g class=\"series serie-0 color-0\"/><g class=\"series serie-1 color-1\"/></g><g transform=\"translate(170, 46)\" class=\"plot tooltip-overlay\"><g transform=\"translate(0 0)\" style=\"opacity: 0\" class=\"tooltip\"><rect rx=\"0\" ry=\"0\" width=\"0\" height=\"0\" class=\"tooltip-box\"/><g class=\"text\"/></g></g><g transform=\"translate(10, 56)\" class=\"legends\"><g id=\"activate-serie-0\" class=\"legend reactive activate-serie\"><rect x=\"0.0\" y=\"1.0\" width=\"12\" height=\"12\" class=\"color-0 reactive\"/><text x=\"17.0\" y=\"11.2\">At Fault</text></g><g id=\"activate-serie-1\" class=\"legend reactive activate-serie\"><rect x=\"0.0\" y=\"22.0\" width=\"12\" height=\"12\" class=\"color-1 reactive\"/><text x=\"17.0\" y=\"32.2\">Not At Fault</text></g></g><g transform=\"translate(790, 56)\" class=\"legends\"/></g></svg>"
      ],
      "text/plain": [
       "<pygal.graph.box.Box at 0x12ec1b0d0>"
      ]
     },
     "metadata": {},
     "output_type": "display_data"
    }
   ],
   "source": [
    "#age distribution of people at fault \n",
    "import pygal\n",
    "\n",
    "df_parties=pd.read_sql_query(\n",
    "    \"\"\"select * from parties\n",
    "    LIMIT 200000\"\"\", conn)\n",
    "\n",
    "box_plot = pygal.Box()\n",
    "box_plot.title = 'Age Vs At Fault Distribution'\n",
    "box_plot.add('At Fault',df_parties[df_parties['at_fault']==1]['party_age'].dropna().values)\n",
    "box_plot.add('Not At Fault',df_parties[df_parties['at_fault']==0]['party_age'].dropna().values)\n",
    "display(box_plot)"
   ]
  },
  {
   "cell_type": "code",
   "execution_count": null,
   "metadata": {},
   "outputs": [
    {
     "data": {
      "application/vnd.plotly.v1+json": {
       "config": {
        "plotlyServerURL": "https://plot.ly"
       },
       "data": [
        {
         "hovertemplate": "Year=%{x}<br>Number_of_road_accidents=%{y}<extra></extra>",
         "legendgroup": "",
         "line": {
          "color": "rgb(120,161,120)",
          "dash": "solid",
          "shape": "spline"
         },
         "marker": {
          "symbol": "circle"
         },
         "mode": "markers+lines",
         "name": "",
         "orientation": "v",
         "showlegend": false,
         "type": "scatter",
         "x": [
          "2001",
          "2002",
          "2003",
          "2004",
          "2005",
          "2006",
          "2007",
          "2008",
          "2009",
          "2010",
          "2011",
          "2012",
          "2013",
          "2014",
          "2015",
          "2016",
          "2017",
          "2018",
          "2019",
          "2020",
          "2021"
         ],
         "xaxis": "x",
         "y": [
          522562,
          544741,
          538954,
          538295,
          532725,
          498846,
          501908,
          452595,
          426228,
          416490,
          403629,
          395901,
          383840,
          399565,
          438169,
          491619,
          486432,
          482296,
          470352,
          366417,
          132770
         ],
         "yaxis": "y"
        }
       ],
       "layout": {
        "legend": {
         "tracegroupgap": 0
        },
        "plot_bgcolor": "rgb(249,249,249)",
        "template": {
         "data": {
          "bar": [
           {
            "error_x": {
             "color": "#2a3f5f"
            },
            "error_y": {
             "color": "#2a3f5f"
            },
            "marker": {
             "line": {
              "color": "#E5ECF6",
              "width": 0.5
             },
             "pattern": {
              "fillmode": "overlay",
              "size": 10,
              "solidity": 0.2
             }
            },
            "type": "bar"
           }
          ],
          "barpolar": [
           {
            "marker": {
             "line": {
              "color": "#E5ECF6",
              "width": 0.5
             },
             "pattern": {
              "fillmode": "overlay",
              "size": 10,
              "solidity": 0.2
             }
            },
            "type": "barpolar"
           }
          ],
          "carpet": [
           {
            "aaxis": {
             "endlinecolor": "#2a3f5f",
             "gridcolor": "white",
             "linecolor": "white",
             "minorgridcolor": "white",
             "startlinecolor": "#2a3f5f"
            },
            "baxis": {
             "endlinecolor": "#2a3f5f",
             "gridcolor": "white",
             "linecolor": "white",
             "minorgridcolor": "white",
             "startlinecolor": "#2a3f5f"
            },
            "type": "carpet"
           }
          ],
          "choropleth": [
           {
            "colorbar": {
             "outlinewidth": 0,
             "ticks": ""
            },
            "type": "choropleth"
           }
          ],
          "contour": [
           {
            "colorbar": {
             "outlinewidth": 0,
             "ticks": ""
            },
            "colorscale": [
             [
              0,
              "#0d0887"
             ],
             [
              0.1111111111111111,
              "#46039f"
             ],
             [
              0.2222222222222222,
              "#7201a8"
             ],
             [
              0.3333333333333333,
              "#9c179e"
             ],
             [
              0.4444444444444444,
              "#bd3786"
             ],
             [
              0.5555555555555556,
              "#d8576b"
             ],
             [
              0.6666666666666666,
              "#ed7953"
             ],
             [
              0.7777777777777778,
              "#fb9f3a"
             ],
             [
              0.8888888888888888,
              "#fdca26"
             ],
             [
              1,
              "#f0f921"
             ]
            ],
            "type": "contour"
           }
          ],
          "contourcarpet": [
           {
            "colorbar": {
             "outlinewidth": 0,
             "ticks": ""
            },
            "type": "contourcarpet"
           }
          ],
          "heatmap": [
           {
            "colorbar": {
             "outlinewidth": 0,
             "ticks": ""
            },
            "colorscale": [
             [
              0,
              "#0d0887"
             ],
             [
              0.1111111111111111,
              "#46039f"
             ],
             [
              0.2222222222222222,
              "#7201a8"
             ],
             [
              0.3333333333333333,
              "#9c179e"
             ],
             [
              0.4444444444444444,
              "#bd3786"
             ],
             [
              0.5555555555555556,
              "#d8576b"
             ],
             [
              0.6666666666666666,
              "#ed7953"
             ],
             [
              0.7777777777777778,
              "#fb9f3a"
             ],
             [
              0.8888888888888888,
              "#fdca26"
             ],
             [
              1,
              "#f0f921"
             ]
            ],
            "type": "heatmap"
           }
          ],
          "heatmapgl": [
           {
            "colorbar": {
             "outlinewidth": 0,
             "ticks": ""
            },
            "colorscale": [
             [
              0,
              "#0d0887"
             ],
             [
              0.1111111111111111,
              "#46039f"
             ],
             [
              0.2222222222222222,
              "#7201a8"
             ],
             [
              0.3333333333333333,
              "#9c179e"
             ],
             [
              0.4444444444444444,
              "#bd3786"
             ],
             [
              0.5555555555555556,
              "#d8576b"
             ],
             [
              0.6666666666666666,
              "#ed7953"
             ],
             [
              0.7777777777777778,
              "#fb9f3a"
             ],
             [
              0.8888888888888888,
              "#fdca26"
             ],
             [
              1,
              "#f0f921"
             ]
            ],
            "type": "heatmapgl"
           }
          ],
          "histogram": [
           {
            "marker": {
             "pattern": {
              "fillmode": "overlay",
              "size": 10,
              "solidity": 0.2
             }
            },
            "type": "histogram"
           }
          ],
          "histogram2d": [
           {
            "colorbar": {
             "outlinewidth": 0,
             "ticks": ""
            },
            "colorscale": [
             [
              0,
              "#0d0887"
             ],
             [
              0.1111111111111111,
              "#46039f"
             ],
             [
              0.2222222222222222,
              "#7201a8"
             ],
             [
              0.3333333333333333,
              "#9c179e"
             ],
             [
              0.4444444444444444,
              "#bd3786"
             ],
             [
              0.5555555555555556,
              "#d8576b"
             ],
             [
              0.6666666666666666,
              "#ed7953"
             ],
             [
              0.7777777777777778,
              "#fb9f3a"
             ],
             [
              0.8888888888888888,
              "#fdca26"
             ],
             [
              1,
              "#f0f921"
             ]
            ],
            "type": "histogram2d"
           }
          ],
          "histogram2dcontour": [
           {
            "colorbar": {
             "outlinewidth": 0,
             "ticks": ""
            },
            "colorscale": [
             [
              0,
              "#0d0887"
             ],
             [
              0.1111111111111111,
              "#46039f"
             ],
             [
              0.2222222222222222,
              "#7201a8"
             ],
             [
              0.3333333333333333,
              "#9c179e"
             ],
             [
              0.4444444444444444,
              "#bd3786"
             ],
             [
              0.5555555555555556,
              "#d8576b"
             ],
             [
              0.6666666666666666,
              "#ed7953"
             ],
             [
              0.7777777777777778,
              "#fb9f3a"
             ],
             [
              0.8888888888888888,
              "#fdca26"
             ],
             [
              1,
              "#f0f921"
             ]
            ],
            "type": "histogram2dcontour"
           }
          ],
          "mesh3d": [
           {
            "colorbar": {
             "outlinewidth": 0,
             "ticks": ""
            },
            "type": "mesh3d"
           }
          ],
          "parcoords": [
           {
            "line": {
             "colorbar": {
              "outlinewidth": 0,
              "ticks": ""
             }
            },
            "type": "parcoords"
           }
          ],
          "pie": [
           {
            "automargin": true,
            "type": "pie"
           }
          ],
          "scatter": [
           {
            "fillpattern": {
             "fillmode": "overlay",
             "size": 10,
             "solidity": 0.2
            },
            "type": "scatter"
           }
          ],
          "scatter3d": [
           {
            "line": {
             "colorbar": {
              "outlinewidth": 0,
              "ticks": ""
             }
            },
            "marker": {
             "colorbar": {
              "outlinewidth": 0,
              "ticks": ""
             }
            },
            "type": "scatter3d"
           }
          ],
          "scattercarpet": [
           {
            "marker": {
             "colorbar": {
              "outlinewidth": 0,
              "ticks": ""
             }
            },
            "type": "scattercarpet"
           }
          ],
          "scattergeo": [
           {
            "marker": {
             "colorbar": {
              "outlinewidth": 0,
              "ticks": ""
             }
            },
            "type": "scattergeo"
           }
          ],
          "scattergl": [
           {
            "marker": {
             "colorbar": {
              "outlinewidth": 0,
              "ticks": ""
             }
            },
            "type": "scattergl"
           }
          ],
          "scattermapbox": [
           {
            "marker": {
             "colorbar": {
              "outlinewidth": 0,
              "ticks": ""
             }
            },
            "type": "scattermapbox"
           }
          ],
          "scatterpolar": [
           {
            "marker": {
             "colorbar": {
              "outlinewidth": 0,
              "ticks": ""
             }
            },
            "type": "scatterpolar"
           }
          ],
          "scatterpolargl": [
           {
            "marker": {
             "colorbar": {
              "outlinewidth": 0,
              "ticks": ""
             }
            },
            "type": "scatterpolargl"
           }
          ],
          "scatterternary": [
           {
            "marker": {
             "colorbar": {
              "outlinewidth": 0,
              "ticks": ""
             }
            },
            "type": "scatterternary"
           }
          ],
          "surface": [
           {
            "colorbar": {
             "outlinewidth": 0,
             "ticks": ""
            },
            "colorscale": [
             [
              0,
              "#0d0887"
             ],
             [
              0.1111111111111111,
              "#46039f"
             ],
             [
              0.2222222222222222,
              "#7201a8"
             ],
             [
              0.3333333333333333,
              "#9c179e"
             ],
             [
              0.4444444444444444,
              "#bd3786"
             ],
             [
              0.5555555555555556,
              "#d8576b"
             ],
             [
              0.6666666666666666,
              "#ed7953"
             ],
             [
              0.7777777777777778,
              "#fb9f3a"
             ],
             [
              0.8888888888888888,
              "#fdca26"
             ],
             [
              1,
              "#f0f921"
             ]
            ],
            "type": "surface"
           }
          ],
          "table": [
           {
            "cells": {
             "fill": {
              "color": "#EBF0F8"
             },
             "line": {
              "color": "white"
             }
            },
            "header": {
             "fill": {
              "color": "#C8D4E3"
             },
             "line": {
              "color": "white"
             }
            },
            "type": "table"
           }
          ]
         },
         "layout": {
          "annotationdefaults": {
           "arrowcolor": "#2a3f5f",
           "arrowhead": 0,
           "arrowwidth": 1
          },
          "autotypenumbers": "strict",
          "coloraxis": {
           "colorbar": {
            "outlinewidth": 0,
            "ticks": ""
           }
          },
          "colorscale": {
           "diverging": [
            [
             0,
             "#8e0152"
            ],
            [
             0.1,
             "#c51b7d"
            ],
            [
             0.2,
             "#de77ae"
            ],
            [
             0.3,
             "#f1b6da"
            ],
            [
             0.4,
             "#fde0ef"
            ],
            [
             0.5,
             "#f7f7f7"
            ],
            [
             0.6,
             "#e6f5d0"
            ],
            [
             0.7,
             "#b8e186"
            ],
            [
             0.8,
             "#7fbc41"
            ],
            [
             0.9,
             "#4d9221"
            ],
            [
             1,
             "#276419"
            ]
           ],
           "sequential": [
            [
             0,
             "#0d0887"
            ],
            [
             0.1111111111111111,
             "#46039f"
            ],
            [
             0.2222222222222222,
             "#7201a8"
            ],
            [
             0.3333333333333333,
             "#9c179e"
            ],
            [
             0.4444444444444444,
             "#bd3786"
            ],
            [
             0.5555555555555556,
             "#d8576b"
            ],
            [
             0.6666666666666666,
             "#ed7953"
            ],
            [
             0.7777777777777778,
             "#fb9f3a"
            ],
            [
             0.8888888888888888,
             "#fdca26"
            ],
            [
             1,
             "#f0f921"
            ]
           ],
           "sequentialminus": [
            [
             0,
             "#0d0887"
            ],
            [
             0.1111111111111111,
             "#46039f"
            ],
            [
             0.2222222222222222,
             "#7201a8"
            ],
            [
             0.3333333333333333,
             "#9c179e"
            ],
            [
             0.4444444444444444,
             "#bd3786"
            ],
            [
             0.5555555555555556,
             "#d8576b"
            ],
            [
             0.6666666666666666,
             "#ed7953"
            ],
            [
             0.7777777777777778,
             "#fb9f3a"
            ],
            [
             0.8888888888888888,
             "#fdca26"
            ],
            [
             1,
             "#f0f921"
            ]
           ]
          },
          "colorway": [
           "#636efa",
           "#EF553B",
           "#00cc96",
           "#ab63fa",
           "#FFA15A",
           "#19d3f3",
           "#FF6692",
           "#B6E880",
           "#FF97FF",
           "#FECB52"
          ],
          "font": {
           "color": "#2a3f5f"
          },
          "geo": {
           "bgcolor": "white",
           "lakecolor": "white",
           "landcolor": "#E5ECF6",
           "showlakes": true,
           "showland": true,
           "subunitcolor": "white"
          },
          "hoverlabel": {
           "align": "left"
          },
          "hovermode": "closest",
          "mapbox": {
           "style": "light"
          },
          "paper_bgcolor": "white",
          "plot_bgcolor": "#E5ECF6",
          "polar": {
           "angularaxis": {
            "gridcolor": "white",
            "linecolor": "white",
            "ticks": ""
           },
           "bgcolor": "#E5ECF6",
           "radialaxis": {
            "gridcolor": "white",
            "linecolor": "white",
            "ticks": ""
           }
          },
          "scene": {
           "xaxis": {
            "backgroundcolor": "#E5ECF6",
            "gridcolor": "white",
            "gridwidth": 2,
            "linecolor": "white",
            "showbackground": true,
            "ticks": "",
            "zerolinecolor": "white"
           },
           "yaxis": {
            "backgroundcolor": "#E5ECF6",
            "gridcolor": "white",
            "gridwidth": 2,
            "linecolor": "white",
            "showbackground": true,
            "ticks": "",
            "zerolinecolor": "white"
           },
           "zaxis": {
            "backgroundcolor": "#E5ECF6",
            "gridcolor": "white",
            "gridwidth": 2,
            "linecolor": "white",
            "showbackground": true,
            "ticks": "",
            "zerolinecolor": "white"
           }
          },
          "shapedefaults": {
           "line": {
            "color": "#2a3f5f"
           }
          },
          "ternary": {
           "aaxis": {
            "gridcolor": "white",
            "linecolor": "white",
            "ticks": ""
           },
           "baxis": {
            "gridcolor": "white",
            "linecolor": "white",
            "ticks": ""
           },
           "bgcolor": "#E5ECF6",
           "caxis": {
            "gridcolor": "white",
            "linecolor": "white",
            "ticks": ""
           }
          },
          "title": {
           "x": 0.05
          },
          "xaxis": {
           "automargin": true,
           "gridcolor": "white",
           "linecolor": "white",
           "ticks": "",
           "title": {
            "standoff": 15
           },
           "zerolinecolor": "white",
           "zerolinewidth": 2
          },
          "yaxis": {
           "automargin": true,
           "gridcolor": "white",
           "linecolor": "white",
           "ticks": "",
           "title": {
            "standoff": 15
           },
           "zerolinecolor": "white",
           "zerolinewidth": 2
          }
         }
        },
        "title": {
         "text": "Recorded traffic incidents over the years"
        },
        "xaxis": {
         "anchor": "y",
         "domain": [
          0,
          1
         ],
         "title": {
          "text": "Year"
         }
        },
        "yaxis": {
         "anchor": "x",
         "domain": [
          0,
          1
         ],
         "title": {
          "text": "Number_of_road_accidents"
         }
        }
       }
      }
     },
     "metadata": {},
     "output_type": "display_data"
    }
   ],
   "source": [
    "df_year_total = pd.read_sql_query(\n",
    "    \"\"\"\n",
    "    SELECT STRFTIME('%Y', collision_date) AS Year, COUNT(case_id) AS Number_of_road_accidents\n",
    "    FROM collisions\n",
    "    GROUP BY Year;\n",
    "    \"\"\", conn)\n",
    "\n",
    "\n",
    "fig_year_total = px.line(\n",
    "    df_year_total,\n",
    "    x = 'Year',\n",
    "    y = 'Number_of_road_accidents',\n",
    "    line_shape = 'spline',\n",
    "    markers = True,\n",
    "    title = 'Recorded traffic incidents over the years')\n",
    "\n",
    "fig_year_total.update_layout(plot_bgcolor = plot_bgcolor)\n",
    "fig_year_total.update_traces(line_color = plot_linecolor)\n",
    "fig_year_total.show()\n"
   ]
  },
  {
   "cell_type": "markdown",
   "metadata": {},
   "source": [
    "collision area plot"
   ]
  },
  {
   "cell_type": "code",
   "execution_count": null,
   "metadata": {},
   "outputs": [
    {
     "data": {
      "text/html": [
       "<div>\n",
       "<style scoped>\n",
       "    .dataframe tbody tr th:only-of-type {\n",
       "        vertical-align: middle;\n",
       "    }\n",
       "\n",
       "    .dataframe tbody tr th {\n",
       "        vertical-align: top;\n",
       "    }\n",
       "\n",
       "    .dataframe thead th {\n",
       "        text-align: right;\n",
       "    }\n",
       "</style>\n",
       "<table border=\"1\" class=\"dataframe\">\n",
       "  <thead>\n",
       "    <tr style=\"text-align: right;\">\n",
       "      <th></th>\n",
       "      <th>party_race</th>\n",
       "      <th>number of collision</th>\n",
       "    </tr>\n",
       "  </thead>\n",
       "  <tbody>\n",
       "    <tr>\n",
       "      <th>0</th>\n",
       "      <td>white</td>\n",
       "      <td>5932763</td>\n",
       "    </tr>\n",
       "    <tr>\n",
       "      <th>1</th>\n",
       "      <td>hispanic</td>\n",
       "      <td>5013959</td>\n",
       "    </tr>\n",
       "    <tr>\n",
       "      <th>2</th>\n",
       "      <td>black</td>\n",
       "      <td>1267606</td>\n",
       "    </tr>\n",
       "    <tr>\n",
       "      <th>3</th>\n",
       "      <td>asian</td>\n",
       "      <td>1139060</td>\n",
       "    </tr>\n",
       "    <tr>\n",
       "      <th>4</th>\n",
       "      <td>other</td>\n",
       "      <td>941649</td>\n",
       "    </tr>\n",
       "  </tbody>\n",
       "</table>\n",
       "</div>"
      ],
      "text/plain": [
       "  party_race  number of collision\n",
       "0      white              5932763\n",
       "1   hispanic              5013959\n",
       "2      black              1267606\n",
       "3      asian              1139060\n",
       "4      other               941649"
      ]
     },
     "execution_count": 12,
     "metadata": {},
     "output_type": "execute_result"
    }
   ],
   "source": [
    "#what race is most involved in the collision?\n",
    "df_race=pd.read_sql_query(\n",
    "    \"\"\"SELECT party_race, count(*) as 'number of collision'\n",
    "FROM parties\n",
    "WHERE (party_race is not null)\n",
    "GROUP BY party_race\n",
    "ORDER BY count(*) DESC;\"\"\",conn)\n",
    "\n",
    "#clean missing data \n",
    "df_race = df_race.dropna() \n",
    "#clean duplicate data \n",
    "df_race = df_race.drop_duplicates()\n",
    "\n",
    "\n",
    "df_race\n"
   ]
  },
  {
   "cell_type": "markdown",
   "metadata": {},
   "source": [
    "Races distribution in California data"
   ]
  },
  {
   "cell_type": "code",
   "execution_count": null,
   "metadata": {},
   "outputs": [
    {
     "data": {
      "image/png": "[encoded data removed]",
      "text/plain": [
       "<Figure size 500x500 with 1 Axes>"
      ]
     },
     "metadata": {},
     "output_type": "display_data"
    }
   ],
   "source": [
    "import matplotlib.pyplot as plt\n",
    "import pandas as pd\n",
    "\n",
    "colors = plt.cm.Paired(range(len(df_race)))\n",
    "\n",
    "plt.figure(figsize=(5, 5))\n",
    "plt.pie(df_race['number of collision'], labels=df_race['party_race'], autopct='%1.1f%%', colors=colors, startangle=140)\n",
    "plt.axis('equal')  # make sure the ratio of pie chart\n",
    "plt.title('Collision percentage by Race')\n",
    "\n",
    "plt.show()"
   ]
  },
  {
   "cell_type": "code",
   "execution_count": null,
   "metadata": {},
   "outputs": [
    {
     "data": {
      "text/html": [
       "<div>\n",
       "<style scoped>\n",
       "    .dataframe tbody tr th:only-of-type {\n",
       "        vertical-align: middle;\n",
       "    }\n",
       "\n",
       "    .dataframe tbody tr th {\n",
       "        vertical-align: top;\n",
       "    }\n",
       "\n",
       "    .dataframe thead th {\n",
       "        text-align: right;\n",
       "    }\n",
       "</style>\n",
       "<table border=\"1\" class=\"dataframe\">\n",
       "  <thead>\n",
       "    <tr style=\"text-align: right;\">\n",
       "      <th></th>\n",
       "      <th>collision_number_rise</th>\n",
       "      <th>collision_number_set</th>\n",
       "    </tr>\n",
       "  </thead>\n",
       "  <tbody>\n",
       "    <tr>\n",
       "      <th>0</th>\n",
       "      <td>782121</td>\n",
       "      <td>1045757</td>\n",
       "    </tr>\n",
       "  </tbody>\n",
       "</table>\n",
       "</div>"
      ],
      "text/plain": [
       "   collision_number_rise  collision_number_set\n",
       "0                 782121               1045757"
      ]
     },
     "execution_count": 15,
     "metadata": {},
     "output_type": "execute_result"
    }
   ],
   "source": [
    "#count collision happend when sunrise\n",
    "df_sunrise= pd.read_sql_query(\n",
    "    \"\"\"SELECT count(collision_time) as collision_number_rise\n",
    "        FROM collisions\n",
    "        WHERE collision_time between '06:00:00' and '08:00:00';\"\"\",conn)\n",
    "\n",
    "\n",
    "#count collision happend when sunset\n",
    "df_sunset= pd.read_sql_query(\n",
    "    \"\"\"SELECT count(collision_time) as collision_number_set\n",
    "        FROM collisions\n",
    "        WHERE collision_time between '18:00:00' and '20:00:00';\"\"\",conn)\n",
    "\n",
    "\n",
    "#clean missing data \n",
    "df_sunset = df_sunset.dropna() \n",
    "#clean duplicate data \n",
    "df_sunset = df_sunset.drop_duplicates()\n",
    "\n",
    "\n",
    "df_sun= pd.concat([df_sunrise,df_sunset],axis=1)\n",
    "df_sun"
   ]
  },
  {
   "cell_type": "code",
   "execution_count": null,
   "metadata": {},
   "outputs": [
    {
     "data": {
      "text/html": [
       "<div>\n",
       "<style scoped>\n",
       "    .dataframe tbody tr th:only-of-type {\n",
       "        vertical-align: middle;\n",
       "    }\n",
       "\n",
       "    .dataframe tbody tr th {\n",
       "        vertical-align: top;\n",
       "    }\n",
       "\n",
       "    .dataframe thead th {\n",
       "        text-align: right;\n",
       "    }\n",
       "</style>\n",
       "<table border=\"1\" class=\"dataframe\">\n",
       "  <thead>\n",
       "    <tr style=\"text-align: right;\">\n",
       "      <th></th>\n",
       "      <th>county_location</th>\n",
       "      <th>count_accident</th>\n",
       "    </tr>\n",
       "  </thead>\n",
       "  <tbody>\n",
       "    <tr>\n",
       "      <th>0</th>\n",
       "      <td>los angeles</td>\n",
       "      <td>2851925</td>\n",
       "    </tr>\n",
       "    <tr>\n",
       "      <th>1</th>\n",
       "      <td>orange</td>\n",
       "      <td>728565</td>\n",
       "    </tr>\n",
       "    <tr>\n",
       "      <th>2</th>\n",
       "      <td>san bernardino</td>\n",
       "      <td>569376</td>\n",
       "    </tr>\n",
       "    <tr>\n",
       "      <th>3</th>\n",
       "      <td>san diego</td>\n",
       "      <td>535596</td>\n",
       "    </tr>\n",
       "    <tr>\n",
       "      <th>4</th>\n",
       "      <td>riverside</td>\n",
       "      <td>493758</td>\n",
       "    </tr>\n",
       "    <tr>\n",
       "      <th>5</th>\n",
       "      <td>alameda</td>\n",
       "      <td>466969</td>\n",
       "    </tr>\n",
       "    <tr>\n",
       "      <th>6</th>\n",
       "      <td>sacramento</td>\n",
       "      <td>403575</td>\n",
       "    </tr>\n",
       "    <tr>\n",
       "      <th>7</th>\n",
       "      <td>santa clara</td>\n",
       "      <td>342603</td>\n",
       "    </tr>\n",
       "    <tr>\n",
       "      <th>8</th>\n",
       "      <td>contra costa</td>\n",
       "      <td>217025</td>\n",
       "    </tr>\n",
       "    <tr>\n",
       "      <th>9</th>\n",
       "      <td>san joaquin</td>\n",
       "      <td>209185</td>\n",
       "    </tr>\n",
       "  </tbody>\n",
       "</table>\n",
       "</div>"
      ],
      "text/plain": [
       "  county_location  count_accident\n",
       "0     los angeles         2851925\n",
       "1          orange          728565\n",
       "2  san bernardino          569376\n",
       "3       san diego          535596\n",
       "4       riverside          493758\n",
       "5         alameda          466969\n",
       "6      sacramento          403575\n",
       "7     santa clara          342603\n",
       "8    contra costa          217025\n",
       "9     san joaquin          209185"
      ]
     },
     "execution_count": 16,
     "metadata": {},
     "output_type": "execute_result"
    }
   ],
   "source": [
    "#collisions in different area\n",
    "\n",
    "df_area=pd.read_sql_query(\n",
    "    \"\"\"SELECT county_location, count(case_id) as count_accident\n",
    "FROM collisions\n",
    "GROUP BY county_location\n",
    "ORDER BY count_accident DESC;\"\"\",conn)\n",
    "\n",
    "#clean missing data \n",
    "df_area = df_area.dropna() \n",
    "#clean duplicate data \n",
    "df_area = df_area.drop_duplicates()\n",
    "\n",
    "df_area.head(10)"
   ]
  },
  {
   "cell_type": "code",
   "execution_count": null,
   "metadata": {},
   "outputs": [
    {
     "data": {
      "image/png": "[encoded data removed]",
      "text/plain": [
       "<Figure size 1500x600 with 1 Axes>"
      ]
     },
     "metadata": {},
     "output_type": "display_data"
    }
   ],
   "source": [
    "import matplotlib.pyplot as plt\n",
    "import pandas as pd\n",
    "\n",
    "\n",
    "df_10= df_area.head(10)\n",
    "\n",
    "plt.figure(figsize=(15, 6))\n",
    "plt.bar(df_10['county_location'], df_10['count_accident'])\n",
    "plt.xlabel('County Location')\n",
    "plt.ylabel('Collision Count')\n",
    "plt.title('Collision Count by Location')\n",
    "plt.show()\n"
   ]
  },
  {
   "cell_type": "code",
   "execution_count": 6,
   "metadata": {},
   "outputs": [
    {
     "data": {
      "text/html": [
       "<div>\n",
       "<style scoped>\n",
       "    .dataframe tbody tr th:only-of-type {\n",
       "        vertical-align: middle;\n",
       "    }\n",
       "\n",
       "    .dataframe tbody tr th {\n",
       "        vertical-align: top;\n",
       "    }\n",
       "\n",
       "    .dataframe thead th {\n",
       "        text-align: right;\n",
       "    }\n",
       "</style>\n",
       "<table border=\"1\" class=\"dataframe\">\n",
       "  <thead>\n",
       "    <tr style=\"text-align: right;\">\n",
       "      <th></th>\n",
       "      <th>party_age</th>\n",
       "      <th>total_alcohol_involved</th>\n",
       "      <th>total_collision</th>\n",
       "      <th>percentage</th>\n",
       "    </tr>\n",
       "  </thead>\n",
       "  <tbody>\n",
       "    <tr>\n",
       "      <th>0</th>\n",
       "      <td>0</td>\n",
       "      <td>251</td>\n",
       "      <td>2176</td>\n",
       "      <td>0.001593</td>\n",
       "    </tr>\n",
       "    <tr>\n",
       "      <th>1</th>\n",
       "      <td>1</td>\n",
       "      <td>79</td>\n",
       "      <td>1501</td>\n",
       "      <td>0.000501</td>\n",
       "    </tr>\n",
       "    <tr>\n",
       "      <th>2</th>\n",
       "      <td>2</td>\n",
       "      <td>79</td>\n",
       "      <td>2234</td>\n",
       "      <td>0.000501</td>\n",
       "    </tr>\n",
       "    <tr>\n",
       "      <th>3</th>\n",
       "      <td>3</td>\n",
       "      <td>122</td>\n",
       "      <td>2828</td>\n",
       "      <td>0.000774</td>\n",
       "    </tr>\n",
       "    <tr>\n",
       "      <th>4</th>\n",
       "      <td>4</td>\n",
       "      <td>115</td>\n",
       "      <td>3280</td>\n",
       "      <td>0.000730</td>\n",
       "    </tr>\n",
       "    <tr>\n",
       "      <th>...</th>\n",
       "      <td>...</td>\n",
       "      <td>...</td>\n",
       "      <td>...</td>\n",
       "      <td>...</td>\n",
       "    </tr>\n",
       "    <tr>\n",
       "      <th>121</th>\n",
       "      <td>121</td>\n",
       "      <td>0</td>\n",
       "      <td>11</td>\n",
       "      <td>0.000000</td>\n",
       "    </tr>\n",
       "    <tr>\n",
       "      <th>122</th>\n",
       "      <td>122</td>\n",
       "      <td>0</td>\n",
       "      <td>6</td>\n",
       "      <td>0.000000</td>\n",
       "    </tr>\n",
       "    <tr>\n",
       "      <th>123</th>\n",
       "      <td>123</td>\n",
       "      <td>0</td>\n",
       "      <td>3</td>\n",
       "      <td>0.000000</td>\n",
       "    </tr>\n",
       "    <tr>\n",
       "      <th>124</th>\n",
       "      <td>124</td>\n",
       "      <td>0</td>\n",
       "      <td>3</td>\n",
       "      <td>0.000000</td>\n",
       "    </tr>\n",
       "    <tr>\n",
       "      <th>125</th>\n",
       "      <td>125</td>\n",
       "      <td>0</td>\n",
       "      <td>1</td>\n",
       "      <td>0.000000</td>\n",
       "    </tr>\n",
       "  </tbody>\n",
       "</table>\n",
       "<p>126 rows × 4 columns</p>\n",
       "</div>"
      ],
      "text/plain": [
       "     party_age  total_alcohol_involved  total_collision  percentage\n",
       "0            0                     251             2176    0.001593\n",
       "1            1                      79             1501    0.000501\n",
       "2            2                      79             2234    0.000501\n",
       "3            3                     122             2828    0.000774\n",
       "4            4                     115             3280    0.000730\n",
       "..         ...                     ...              ...         ...\n",
       "121        121                       0               11    0.000000\n",
       "122        122                       0                6    0.000000\n",
       "123        123                       0                3    0.000000\n",
       "124        124                       0                3    0.000000\n",
       "125        125                       0                1    0.000000\n",
       "\n",
       "[126 rows x 4 columns]"
      ]
     },
     "execution_count": 6,
     "metadata": {},
     "output_type": "execute_result"
    }
   ],
   "source": [
    "#collision for drunkness\n",
    "\n",
    "df_age_drunk=pd.read_sql_query(\n",
    "    \"\"\"SELECT party_age,\n",
    "       SUM(CASE WHEN alcohol_involved IS NOT NULL THEN alcohol_involved ELSE 0 END) AS total_alcohol_involved,\n",
    "       COUNT(*) AS total_collision\n",
    "        FROM collisions\n",
    "        LEFT join parties\n",
    "        on collisions.case_id = parties.case_id\n",
    "        WHERE party_age IS NOT NULL\n",
    "        GROUP BY party_age\"\"\", conn)\n",
    "\n",
    "df_age_drunk['percentage'] = (df_age_drunk['total_alcohol_involved'] / df_age_drunk['total_collision'].sum()) * 100\n",
    "\n",
    "df_age_drunk"
   ]
  },
  {
   "cell_type": "code",
   "execution_count": 9,
   "metadata": {},
   "outputs": [
    {
     "data": {
      "image/png": "[encoded data removed]",
      "text/plain": [
       "<Figure size 1000x600 with 2 Axes>"
      ]
     },
     "metadata": {},
     "output_type": "display_data"
    }
   ],
   "source": [
    "import matplotlib.pyplot as plt\n",
    "\n",
    "# 建立圖表和子圖\n",
    "fig, ax1 = plt.subplots(figsize=(10, 6))\n",
    "\n",
    "# 繪製 bar chart (左軸)\n",
    "ax1.bar(df_age_drunk['party_age'], df_age_drunk['total_alcohol_involved'], color='blue', label='Total Alcohol Involved', width=0.8)\n",
    "# ax1.bar(np.array(df_age_drunk['party_age']) - 0.2, df_age_drunk['total_alcohol_involved'], width=0.4, color='blue', label='Total Alcohol Involved')\n",
    "\n",
    "# ax1.bar(df_age_drunk['party_age'], df_age_drunk['total_collision'], color='orange', label='Total Collision')\n",
    "ax1.bar(df_age_drunk['party_age'], np.array(df_age_drunk['total_collision']), color='orange', label='Total Collision', width=0.4)\n",
    "\n",
    "ax1.set_xlabel('Party Age')\n",
    "ax1.set_ylabel('Values')\n",
    "ax1.tick_params(axis='y')\n",
    "ax1.legend(loc='center right')\n",
    "\n",
    "# 建立第二個 y 軸並繪製折線圖 (右軸)\n",
    "ax2 = ax1.twinx()\n",
    "ax2.plot(df_age_drunk['party_age'], df_age_drunk['percentage'] * 100, color='green', marker='o', linestyle='-', label='Percentage')\n",
    "ax2.set_ylabel('Percentage%')\n",
    "ax2.tick_params(axis='y')\n",
    "ax2.legend(loc='upper right')\n",
    "\n",
    "plt.grid(True)\n",
    "# 顯示圖表\n",
    "plt.show()"
   ]
  },
  {
   "cell_type": "code",
   "execution_count": 11,
   "metadata": {},
   "outputs": [
    {
     "data": {
      "text/html": [
       "<div>\n",
       "<style scoped>\n",
       "    .dataframe tbody tr th:only-of-type {\n",
       "        vertical-align: middle;\n",
       "    }\n",
       "\n",
       "    .dataframe tbody tr th {\n",
       "        vertical-align: top;\n",
       "    }\n",
       "\n",
       "    .dataframe thead th {\n",
       "        text-align: right;\n",
       "    }\n",
       "</style>\n",
       "<table border=\"1\" class=\"dataframe\">\n",
       "  <thead>\n",
       "    <tr style=\"text-align: right;\">\n",
       "      <th></th>\n",
       "      <th>year</th>\n",
       "      <th>New_Years_Day</th>\n",
       "      <th>Juneteenth</th>\n",
       "      <th>Independence_Day</th>\n",
       "      <th>Labor_Day</th>\n",
       "      <th>Halloween</th>\n",
       "      <th>Veterans_Day</th>\n",
       "      <th>Thanksgiving_Day</th>\n",
       "      <th>Christmas_Day</th>\n",
       "    </tr>\n",
       "  </thead>\n",
       "  <tbody>\n",
       "    <tr>\n",
       "      <th>0</th>\n",
       "      <td>2001</td>\n",
       "      <td>1000</td>\n",
       "      <td>1449</td>\n",
       "      <td>1104</td>\n",
       "      <td>975</td>\n",
       "      <td>1680</td>\n",
       "      <td>1359</td>\n",
       "      <td>1090</td>\n",
       "      <td>867</td>\n",
       "    </tr>\n",
       "    <tr>\n",
       "      <th>1</th>\n",
       "      <td>2002</td>\n",
       "      <td>1070</td>\n",
       "      <td>1488</td>\n",
       "      <td>1165</td>\n",
       "      <td>1691</td>\n",
       "      <td>1774</td>\n",
       "      <td>1272</td>\n",
       "      <td>1690</td>\n",
       "      <td>871</td>\n",
       "    </tr>\n",
       "    <tr>\n",
       "      <th>2</th>\n",
       "      <td>2003</td>\n",
       "      <td>1090</td>\n",
       "      <td>1361</td>\n",
       "      <td>1321</td>\n",
       "      <td>1664</td>\n",
       "      <td>2479</td>\n",
       "      <td>1337</td>\n",
       "      <td>1460</td>\n",
       "      <td>1448</td>\n",
       "    </tr>\n",
       "    <tr>\n",
       "      <th>3</th>\n",
       "      <td>2004</td>\n",
       "      <td>1244</td>\n",
       "      <td>1391</td>\n",
       "      <td>1287</td>\n",
       "      <td>1746</td>\n",
       "      <td>1301</td>\n",
       "      <td>1547</td>\n",
       "      <td>1435</td>\n",
       "      <td>918</td>\n",
       "    </tr>\n",
       "    <tr>\n",
       "      <th>4</th>\n",
       "      <td>2005</td>\n",
       "      <td>1124</td>\n",
       "      <td>1189</td>\n",
       "      <td>1230</td>\n",
       "      <td>1262</td>\n",
       "      <td>1786</td>\n",
       "      <td>1467</td>\n",
       "      <td>1717</td>\n",
       "      <td>1015</td>\n",
       "    </tr>\n",
       "    <tr>\n",
       "      <th>5</th>\n",
       "      <td>2006</td>\n",
       "      <td>1427</td>\n",
       "      <td>1368</td>\n",
       "      <td>1180</td>\n",
       "      <td>717</td>\n",
       "      <td>1671</td>\n",
       "      <td>1500</td>\n",
       "      <td>1631</td>\n",
       "      <td>821</td>\n",
       "    </tr>\n",
       "    <tr>\n",
       "      <th>6</th>\n",
       "      <td>2007</td>\n",
       "      <td>1014</td>\n",
       "      <td>1393</td>\n",
       "      <td>1167</td>\n",
       "      <td>1021</td>\n",
       "      <td>1558</td>\n",
       "      <td>1225</td>\n",
       "      <td>943</td>\n",
       "      <td>766</td>\n",
       "    </tr>\n",
       "    <tr>\n",
       "      <th>7</th>\n",
       "      <td>2008</td>\n",
       "      <td>885</td>\n",
       "      <td>1212</td>\n",
       "      <td>1082</td>\n",
       "      <td>1328</td>\n",
       "      <td>1709</td>\n",
       "      <td>988</td>\n",
       "      <td>1136</td>\n",
       "      <td>1029</td>\n",
       "    </tr>\n",
       "    <tr>\n",
       "      <th>8</th>\n",
       "      <td>2009</td>\n",
       "      <td>1001</td>\n",
       "      <td>1372</td>\n",
       "      <td>999</td>\n",
       "      <td>1243</td>\n",
       "      <td>1172</td>\n",
       "      <td>937</td>\n",
       "      <td>832</td>\n",
       "      <td>720</td>\n",
       "    </tr>\n",
       "    <tr>\n",
       "      <th>9</th>\n",
       "      <td>2010</td>\n",
       "      <td>801</td>\n",
       "      <td>1089</td>\n",
       "      <td>1001</td>\n",
       "      <td>1374</td>\n",
       "      <td>1033</td>\n",
       "      <td>1008</td>\n",
       "      <td>1185</td>\n",
       "      <td>783</td>\n",
       "    </tr>\n",
       "    <tr>\n",
       "      <th>10</th>\n",
       "      <td>2011</td>\n",
       "      <td>891</td>\n",
       "      <td>856</td>\n",
       "      <td>953</td>\n",
       "      <td>993</td>\n",
       "      <td>1331</td>\n",
       "      <td>1188</td>\n",
       "      <td>1339</td>\n",
       "      <td>633</td>\n",
       "    </tr>\n",
       "    <tr>\n",
       "      <th>11</th>\n",
       "      <td>2012</td>\n",
       "      <td>874</td>\n",
       "      <td>1010</td>\n",
       "      <td>832</td>\n",
       "      <td>798</td>\n",
       "      <td>1225</td>\n",
       "      <td>769</td>\n",
       "      <td>707</td>\n",
       "      <td>622</td>\n",
       "    </tr>\n",
       "    <tr>\n",
       "      <th>12</th>\n",
       "      <td>2013</td>\n",
       "      <td>674</td>\n",
       "      <td>1101</td>\n",
       "      <td>901</td>\n",
       "      <td>1347</td>\n",
       "      <td>1354</td>\n",
       "      <td>863</td>\n",
       "      <td>1165</td>\n",
       "      <td>556</td>\n",
       "    </tr>\n",
       "    <tr>\n",
       "      <th>13</th>\n",
       "      <td>2014</td>\n",
       "      <td>766</td>\n",
       "      <td>1050</td>\n",
       "      <td>924</td>\n",
       "      <td>1237</td>\n",
       "      <td>1612</td>\n",
       "      <td>866</td>\n",
       "      <td>1192</td>\n",
       "      <td>718</td>\n",
       "    </tr>\n",
       "    <tr>\n",
       "      <th>14</th>\n",
       "      <td>2015</td>\n",
       "      <td>831</td>\n",
       "      <td>1298</td>\n",
       "      <td>1002</td>\n",
       "      <td>1284</td>\n",
       "      <td>1234</td>\n",
       "      <td>1123</td>\n",
       "      <td>1018</td>\n",
       "      <td>800</td>\n",
       "    </tr>\n",
       "    <tr>\n",
       "      <th>15</th>\n",
       "      <td>2016</td>\n",
       "      <td>925</td>\n",
       "      <td>1081</td>\n",
       "      <td>1040</td>\n",
       "      <td>1205</td>\n",
       "      <td>1490</td>\n",
       "      <td>1337</td>\n",
       "      <td>1486</td>\n",
       "      <td>808</td>\n",
       "    </tr>\n",
       "    <tr>\n",
       "      <th>16</th>\n",
       "      <td>2017</td>\n",
       "      <td>1056</td>\n",
       "      <td>1429</td>\n",
       "      <td>1029</td>\n",
       "      <td>1079</td>\n",
       "      <td>1491</td>\n",
       "      <td>1316</td>\n",
       "      <td>1649</td>\n",
       "      <td>695</td>\n",
       "    </tr>\n",
       "    <tr>\n",
       "      <th>17</th>\n",
       "      <td>2018</td>\n",
       "      <td>926</td>\n",
       "      <td>1338</td>\n",
       "      <td>974</td>\n",
       "      <td>883</td>\n",
       "      <td>1547</td>\n",
       "      <td>1048</td>\n",
       "      <td>1225</td>\n",
       "      <td>905</td>\n",
       "    </tr>\n",
       "    <tr>\n",
       "      <th>18</th>\n",
       "      <td>2019</td>\n",
       "      <td>872</td>\n",
       "      <td>1220</td>\n",
       "      <td>982</td>\n",
       "      <td>1565</td>\n",
       "      <td>1472</td>\n",
       "      <td>1112</td>\n",
       "      <td>1651</td>\n",
       "      <td>744</td>\n",
       "    </tr>\n",
       "    <tr>\n",
       "      <th>19</th>\n",
       "      <td>2020</td>\n",
       "      <td>877</td>\n",
       "      <td>1146</td>\n",
       "      <td>990</td>\n",
       "      <td>1081</td>\n",
       "      <td>1288</td>\n",
       "      <td>923</td>\n",
       "      <td>922</td>\n",
       "      <td>741</td>\n",
       "    </tr>\n",
       "    <tr>\n",
       "      <th>20</th>\n",
       "      <td>2021</td>\n",
       "      <td>831</td>\n",
       "      <td>0</td>\n",
       "      <td>0</td>\n",
       "      <td>0</td>\n",
       "      <td>0</td>\n",
       "      <td>0</td>\n",
       "      <td>0</td>\n",
       "      <td>0</td>\n",
       "    </tr>\n",
       "  </tbody>\n",
       "</table>\n",
       "</div>"
      ],
      "text/plain": [
       "    year  New_Years_Day  Juneteenth  Independence_Day  Labor_Day  Halloween  \\\n",
       "0   2001           1000        1449              1104        975       1680   \n",
       "1   2002           1070        1488              1165       1691       1774   \n",
       "2   2003           1090        1361              1321       1664       2479   \n",
       "3   2004           1244        1391              1287       1746       1301   \n",
       "4   2005           1124        1189              1230       1262       1786   \n",
       "5   2006           1427        1368              1180        717       1671   \n",
       "6   2007           1014        1393              1167       1021       1558   \n",
       "7   2008            885        1212              1082       1328       1709   \n",
       "8   2009           1001        1372               999       1243       1172   \n",
       "9   2010            801        1089              1001       1374       1033   \n",
       "10  2011            891         856               953        993       1331   \n",
       "11  2012            874        1010               832        798       1225   \n",
       "12  2013            674        1101               901       1347       1354   \n",
       "13  2014            766        1050               924       1237       1612   \n",
       "14  2015            831        1298              1002       1284       1234   \n",
       "15  2016            925        1081              1040       1205       1490   \n",
       "16  2017           1056        1429              1029       1079       1491   \n",
       "17  2018            926        1338               974        883       1547   \n",
       "18  2019            872        1220               982       1565       1472   \n",
       "19  2020            877        1146               990       1081       1288   \n",
       "20  2021            831           0                 0          0          0   \n",
       "\n",
       "    Veterans_Day  Thanksgiving_Day  Christmas_Day  \n",
       "0           1359              1090            867  \n",
       "1           1272              1690            871  \n",
       "2           1337              1460           1448  \n",
       "3           1547              1435            918  \n",
       "4           1467              1717           1015  \n",
       "5           1500              1631            821  \n",
       "6           1225               943            766  \n",
       "7            988              1136           1029  \n",
       "8            937               832            720  \n",
       "9           1008              1185            783  \n",
       "10          1188              1339            633  \n",
       "11           769               707            622  \n",
       "12           863              1165            556  \n",
       "13           866              1192            718  \n",
       "14          1123              1018            800  \n",
       "15          1337              1486            808  \n",
       "16          1316              1649            695  \n",
       "17          1048              1225            905  \n",
       "18          1112              1651            744  \n",
       "19           923               922            741  \n",
       "20             0                 0              0  "
      ]
     },
     "execution_count": 11,
     "metadata": {},
     "output_type": "execute_result"
    }
   ],
   "source": [
    "#collision for drunkness\n",
    "\n",
    "df_holiday_collision=pd.read_sql_query(\n",
    "    \"\"\"SELECT strftime('%Y', collision_date) AS year,\n",
    "       SUM(CASE WHEN strftime('%m-%d', collision_date) = '01-01' THEN 1 ELSE 0 END) AS New_Years_Day,\n",
    "       SUM(CASE WHEN strftime('%m-%d', collision_date) = '06-19' THEN 1 ELSE 0 END) AS Juneteenth,\n",
    "       SUM(CASE WHEN strftime('%m-%d', collision_date) = '07-04' THEN 1 ELSE 0 END) AS Independence_Day,\n",
    "       SUM(CASE WHEN strftime('%m-%d', collision_date) = '09-03' THEN 1 ELSE 0 END) AS Labor_Day,\n",
    "       SUM(CASE WHEN strftime('%m-%d', collision_date) = '10-31' THEN 1 ELSE 0 END) AS Halloween,\n",
    "       SUM(CASE WHEN strftime('%m-%d', collision_date) = '11-11' THEN 1 ELSE 0 END) AS Veterans_Day,\n",
    "       SUM(CASE WHEN strftime('%m-%d', collision_date) = '11-22' THEN 1 ELSE 0 END) AS Thanksgiving_Day,\n",
    "       SUM(CASE WHEN strftime('%m-%d', collision_date) = '12-25' THEN 1 ELSE 0 END) AS Christmas_Day\n",
    "        FROM collisions\n",
    "        WHERE collision_date BETWEEN '2001-01-01' AND '2021-12-31'\n",
    "        GROUP BY year\"\"\", conn)\n",
    "\n",
    "df_holiday_collision"
   ]
  },
  {
   "cell_type": "code",
   "execution_count": 26,
   "metadata": {},
   "outputs": [
    {
     "data": {
      "image/png": "[encoded data removed]",
      "text/plain": [
       "<Figure size 1000x600 with 1 Axes>"
      ]
     },
     "metadata": {},
     "output_type": "display_data"
    }
   ],
   "source": [
    "# Data for the line chart\n",
    "years = [\n",
    "    2001, 2002, 2003, 2004, 2005, 2006, 2007, 2008, 2009, \n",
    "    2010, 2011, 2012, 2013, 2014, 2015, 2016, 2017, 2018, \n",
    "    2019, 2020, 2021\n",
    "]\n",
    "\n",
    "New_Years_Day = [1000, 1070, 1090, 1244, 1124, 1427, 1014, 885, 1001, 801, 891, 874, 674, 766, 831, 925, 1056, 926, 872, 877, 831]\n",
    "Juneteenth = [1449, 1488, 1361, 1391, 1189, 1368, 1393, 1212, 1372, 1089, 856, 1010, 1101, 1050, 1298, 1081, 1429, 1338, 1220, 1146, 0]\n",
    "Independence_Day = [1104, 1165, 1321, 1287, 1230, 1180, 1167, 1082, 999, 1001, 953, 832, 901, 924, 1002, 1040, 1029, 974, 982, 990, 0]\n",
    "Labor_Day = [975, 1691, 1664, 1746, 1262, 717, 1021, 1328, 1243, 1374, 993, 798, 1347, 1237, 1284, 1205, 1079, 883, 1565, 1081, 0]\n",
    "Halloween = [1680, 1774, 2479, 1301, 1786, 1671, 1558, 1709, 1172, 1033, 1331, 1225, 1354, 1612, 1234, 1490, 1491, 1547, 1472, 1288, 0]\n",
    "Veterans_Day = [1359, 1272, 1337, 1547, 1467, 1500, 1225, 988, 937, 1008, 1188, 769, 863, 866, 1123, 1337, 1316, 1048, 1112, 923, 0]\n",
    "Thanksgiving_Day = [1090, 1690, 1460, 1435, 1717, 1631, 943, 1136, 832, 1185, 1339, 707, 1165, 1192, 1018, 1486, 1649, 1225, 1651, 922, 0]\n",
    "Christmas_Day = [867, 871, 1448, 918, 1015, 821, 766, 1029, 720, 783, 633, 622, 556, 718, 800, 808, 695, 905, 744, 741, 0]\n",
    "\n",
    "# Create the line chart\n",
    "plt.figure(figsize=(10, 6))\n",
    "\n",
    "# plt.plot(np.array(df_holiday_collision['year']), New_Years_Day, marker='o', label=\"New Year's Day\")\n",
    "plt.plot(df_holiday_collision['year'], df_holiday_collision['New_Years_Day'], marker='o', label=\"New Year's Day\")\n",
    "plt.plot(df_holiday_collision['year'], df_holiday_collision['Juneteenth'], marker='o', label=\"Juneteenth\")\n",
    "plt.plot(df_holiday_collision['year'], df_holiday_collision['Independence_Day'], marker='o', label=\"Independence Day\")\n",
    "plt.plot(df_holiday_collision['year'], df_holiday_collision['Labor_Day'], marker='o', label=\"Labor Day\")\n",
    "plt.plot(df_holiday_collision['year'], df_holiday_collision['Halloween'], marker='o', label=\"Halloween\")\n",
    "plt.plot(df_holiday_collision['year'], df_holiday_collision['Veterans_Day'], marker='o', label=\"Veterans Day\")\n",
    "plt.plot(df_holiday_collision['year'], df_holiday_collision['Thanksgiving_Day'], marker='o', label=\"Thanksgiving Day\")\n",
    "plt.plot(df_holiday_collision['year'], df_holiday_collision['Christmas_Day'], marker='o', label=\"Christmas Day\")\n",
    "\n",
    "plt.xlabel('Year')\n",
    "plt.ylabel('Occurrences')\n",
    "plt.title('Occurrences of Holidays from 2001 to 2021')\n",
    "plt.legend()\n",
    "plt.grid(True)\n",
    "plt.xticks(df_holiday_collision['year'])  # Show all years on x-axis\n",
    "\n",
    "plt.tight_layout()\n",
    "plt.show()"
   ]
  }
 ],
 "metadata": {
  "kernelspec": {
   "display_name": "Python 3",
   "language": "python",
   "name": "python3"
  },
  "language_info": {
   "codemirror_mode": {
    "name": "ipython",
    "version": 3
   },
   "file_extension": ".py",
   "mimetype": "text/x-python",
   "name": "python",
   "nbconvert_exporter": "python",
   "pygments_lexer": "ipython3",
   "version": "3.11.3"
  }
 },
 "nbformat": 4,
 "nbformat_minor": 2
}
